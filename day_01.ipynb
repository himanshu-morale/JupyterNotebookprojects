{
 "cells": [
  {
   "cell_type": "code",
   "execution_count": 1,
   "id": "f4545308-fdc1-462b-b3ab-84ad7da0ef5e",
   "metadata": {},
   "outputs": [
    {
     "name": "stdout",
     "output_type": "stream",
     "text": [
      "Hello World!\n"
     ]
    }
   ],
   "source": [
    "print(\"Hello World!\")"
   ]
  },
  {
   "cell_type": "code",
   "execution_count": 2,
   "id": "dddb7a66-437c-4efb-84a0-d86b8cb1c578",
   "metadata": {},
   "outputs": [
    {
     "name": "stdout",
     "output_type": "stream",
     "text": [
      "Hello Himanshu\n"
     ]
    }
   ],
   "source": [
    "print(\"Hello Himanshu\")"
   ]
  },
  {
   "cell_type": "code",
   "execution_count": 2,
   "id": "99597bea-3d9d-41ef-94bd-d36fbb1fa1a6",
   "metadata": {},
   "outputs": [
    {
     "name": "stdout",
     "output_type": "stream",
     "text": [
      "Hello Himanshu\n"
     ]
    }
   ],
   "source": [
    "print(\"Hello\"+\" \"+\"Himanshu\")"
   ]
  },
  {
   "cell_type": "code",
   "execution_count": 3,
   "id": "dfac6001-dacf-4261-8ac3-e7a11a304c37",
   "metadata": {},
   "outputs": [
    {
     "name": "stdout",
     "output_type": "stream",
     "text": [
      "This is print statement\n"
     ]
    }
   ],
   "source": [
    "#single line comment in python\n",
    "print(\"This is print statement\")"
   ]
  },
  {
   "cell_type": "code",
   "execution_count": 4,
   "id": "3672956c-fadf-4fa1-95dc-3942b288f016",
   "metadata": {},
   "outputs": [
    {
     "name": "stdout",
     "output_type": "stream",
     "text": [
      "this is print statement\n"
     ]
    }
   ],
   "source": [
    "\"\"\"we are writing \n",
    "multiline comments\"\"\"\n",
    "print(\"this is print statement\")"
   ]
  },
  {
   "cell_type": "code",
   "execution_count": 7,
   "id": "c4d5e0ba-1af9-4f9b-b06b-80954cf7165d",
   "metadata": {},
   "outputs": [
    {
     "name": "stdout",
     "output_type": "stream",
     "text": [
      "this will \"execute\n"
     ]
    }
   ],
   "source": [
    "#escape characters in python:-\n",
    "\"\"\"\n",
    "use \\ with character you want to enter\n",
    "this is used to avoid unwanted termintation in print statement \n",
    "for eg you want to print - My name is \"Himanshu\"\n",
    "to use \" \" in between print statement use escape characters to avoid errors\n",
    "\"\"\"\n",
    "# print(\"this will \\\"execute\")\n",
    "# print(\"this will not \"execute\")"
   ]
  },
  {
   "cell_type": "code",
   "execution_count": 10,
   "id": "e88aeab7-3959-4671-b1a5-b2962874ef88",
   "metadata": {},
   "outputs": [
    {
     "name": "stdout",
     "output_type": "stream",
     "text": [
      "hey-himanshu-28-9bye"
     ]
    }
   ],
   "source": [
    "# print statement more details:\n",
    "'''\n",
    "print statement looks like :\n",
    "print(object, sep, end, file)\n",
    "1. object= any object and as ,many as you like. for eg- string, int ,etc\n",
    "2. sep='seperator'- it specifies how to seperate the objects. default is ''\n",
    "3. end=specifies what to print at end. default is \\n = next line \n",
    "'''\n",
    "print(\"hey\",\"himanshu\",28,9, sep=\"-\" , end=\"bye\")"
   ]
  }
 ],
 "metadata": {
  "kernelspec": {
   "display_name": "Python 3 (ipykernel)",
   "language": "python",
   "name": "python3"
  },
  "language_info": {
   "codemirror_mode": {
    "name": "ipython",
    "version": 3
   },
   "file_extension": ".py",
   "mimetype": "text/x-python",
   "name": "python",
   "nbconvert_exporter": "python",
   "pygments_lexer": "ipython3",
   "version": "3.13.7"
  }
 },
 "nbformat": 4,
 "nbformat_minor": 5
}
