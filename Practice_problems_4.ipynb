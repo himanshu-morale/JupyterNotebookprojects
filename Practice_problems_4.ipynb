{
 "cells": [
  {
   "cell_type": "markdown",
   "id": "07138254-1d64-4325-99c2-2cd2143cac2c",
   "metadata": {},
   "source": [
    "**Topics: Functions**"
   ]
  },
  {
   "cell_type": "code",
   "execution_count": 1,
   "id": "69621b85-54c4-4d1a-a6b4-6eac4c9a5ab1",
   "metadata": {},
   "outputs": [
    {
     "name": "stdin",
     "output_type": "stream",
     "text": [
      "Enter name: Himanshu\n"
     ]
    },
    {
     "name": "stdout",
     "output_type": "stream",
     "text": [
      "Hello, Himanshu\n"
     ]
    }
   ],
   "source": [
    "# Greeting Message\n",
    "def greet(name):\n",
    "    print(\"Hello,\",name)\n",
    "\n",
    "name=input(\"Enter name:\")\n",
    "greet(name)"
   ]
  },
  {
   "cell_type": "code",
   "execution_count": 2,
   "id": "21d4c6f3-f3e3-45da-9d1c-3a5843542dcd",
   "metadata": {},
   "outputs": [
    {
     "name": "stdin",
     "output_type": "stream",
     "text": [
      "Enter number 1: 5\n",
      "Enter number 2: 6\n"
     ]
    },
    {
     "name": "stdout",
     "output_type": "stream",
     "text": [
      "Addition of 5 and 6 is: 11\n"
     ]
    }
   ],
   "source": [
    "# Add Two Numbers\n",
    "def add(a,b):\n",
    "    return a+b\n",
    "num1=int(input(\"Enter number 1:\"))\n",
    "num2=int(input(\"Enter number 2:\"))\n",
    "sum=add(num1,num2)\n",
    "print(f\"Addition of {num1} and {num2} is: {sum}\")"
   ]
  },
  {
   "cell_type": "code",
   "execution_count": 10,
   "id": "f4ddec17-a088-44a3-8436-19812c48e856",
   "metadata": {},
   "outputs": [
    {
     "name": "stdin",
     "output_type": "stream",
     "text": [
      "Enter a number: 67\n"
     ]
    },
    {
     "name": "stdout",
     "output_type": "stream",
     "text": [
      "67 is odd\n"
     ]
    }
   ],
   "source": [
    "# Even or Odd\n",
    "def is_Even(a):\n",
    "    if a%2==0:\n",
    "        return True\n",
    "    else: \n",
    "        return False\n",
    "num=int(input(\"Enter a number:\"))\n",
    "if is_Even(num):\n",
    "    print(f\"{num} is even\")\n",
    "else:\n",
    "    print(f\"{num} is odd\")"
   ]
  },
  {
   "cell_type": "code",
   "execution_count": 29,
   "id": "9922f4ea-3fd2-4f95-8a66-310395030b89",
   "metadata": {},
   "outputs": [
    {
     "name": "stdin",
     "output_type": "stream",
     "text": [
      "Enter number 1: 34\n",
      "Enter number 2: 23\n",
      "Enter number 3: 55\n"
     ]
    },
    {
     "name": "stdout",
     "output_type": "stream",
     "text": [
      "Maximum of three numbers is: 55\n"
     ]
    }
   ],
   "source": [
    "# Maximum of Three Numbers\n",
    "def max_of_three_numbers(a, b, c):\n",
    "    if(a>b and b>c):\n",
    "        return a\n",
    "    elif(b>a and b>c):\n",
    "        return b\n",
    "    else:\n",
    "        return c\n",
    "\n",
    "num1=int(input(\"Enter number 1:\"))\n",
    "num2=int(input(\"Enter number 2:\"))\n",
    "num3=int(input(\"Enter number 3:\"))\n",
    "\n",
    "max=max_of_three_numbers(num1,num2,num3)\n",
    "print(\"Maximum of three numbers is:\",max)"
   ]
  },
  {
   "cell_type": "code",
   "execution_count": 12,
   "id": "52800082-e172-47bf-87a3-30e432c1e3b5",
   "metadata": {},
   "outputs": [
    {
     "name": "stdin",
     "output_type": "stream",
     "text": [
      "Enter a number 5\n"
     ]
    },
    {
     "name": "stdout",
     "output_type": "stream",
     "text": [
      "Factorial of 5 is:120\n"
     ]
    }
   ],
   "source": [
    "# Factorial of a Number\n",
    "def factorial(a):\n",
    "    fact=1\n",
    "    for i in range(1,a+1):\n",
    "        fact=fact*i\n",
    "    return fact\n",
    "num=int(input(\"Enter a number you want factorial of\"))\n",
    "print(f\"Factorial of {num} is:{factorial(num)}\")\n",
    "        "
   ]
  },
  {
   "cell_type": "code",
   "execution_count": 31,
   "id": "9239b44c-fd99-483a-9a32-e4048540c1bf",
   "metadata": {},
   "outputs": [
    {
     "name": "stdin",
     "output_type": "stream",
     "text": [
      "Enter a number to check wheter it is prime or not: 101\n"
     ]
    },
    {
     "name": "stdout",
     "output_type": "stream",
     "text": [
      "101 is a prime number\n"
     ]
    }
   ],
   "source": [
    "### Check Prime Number\n",
    "def is_Prime(n):\n",
    "    if n<=1:\n",
    "        return False\n",
    "    if n==2:\n",
    "        return True\n",
    "    if n%2==0:\n",
    "        return False\n",
    "    else:\n",
    "        for i in range(3,n):\n",
    "            if n%i==0:\n",
    "                return False\n",
    "        return True\n",
    "    \n",
    "num=int(input(\"Enter a number to check wheter it is prime or not:\"))\n",
    "if is_Prime(num):\n",
    "    print(f\"{num} is a prime number\")\n",
    "else:\n",
    "    print(f\"{num} is not a prime number\")"
   ]
  },
  {
   "cell_type": "code",
   "execution_count": 32,
   "id": "1a7f9da3-0c5b-4a32-9e01-b7bbff2b9df9",
   "metadata": {},
   "outputs": [
    {
     "name": "stdin",
     "output_type": "stream",
     "text": [
      "Enter a number 98465\n"
     ]
    },
    {
     "name": "stdout",
     "output_type": "stream",
     "text": [
      "Sum of digits of number is: 32\n"
     ]
    }
   ],
   "source": [
    "# Sum of Digits\n",
    "def sum_of_digits(n):\n",
    "    sum=0\n",
    "    digit=0\n",
    "    while n>0:\n",
    "        digit=n%10\n",
    "        sum+=digit\n",
    "        n//=10\n",
    "    return sum\n",
    "num=int(input(\"Enter a number\"))\n",
    "print(\"Sum of digits of number is:\",sum_of_digits(num))"
   ]
  },
  {
   "cell_type": "code",
   "execution_count": 28,
   "id": "0923f25f-6157-4f62-8642-1b9b97a3713c",
   "metadata": {},
   "outputs": [
    {
     "name": "stdin",
     "output_type": "stream",
     "text": [
      "Enter a string you want to reverse word\n"
     ]
    },
    {
     "name": "stdout",
     "output_type": "stream",
     "text": [
      "Reverse of word is:drow\n"
     ]
    }
   ],
   "source": [
    "# Reverse a String\n",
    "def reverse_string(str):\n",
    "    rev=\"\"\n",
    "    for i in str:\n",
    "        rev=i+rev\n",
    "    return rev\n",
    "string=input(\"Enter a string you want to reverse\")\n",
    "print(f\"Reverse of {string} is:{reverse_string(string)}\")"
   ]
  },
  {
   "cell_type": "code",
   "execution_count": 33,
   "id": "4bdec7d7-409d-47af-866a-e3e19e9d5c22",
   "metadata": {},
   "outputs": [
    {
     "name": "stdin",
     "output_type": "stream",
     "text": [
      "Enter a number: 4\n"
     ]
    },
    {
     "name": "stdout",
     "output_type": "stream",
     "text": [
      "square of 4 is:16\n",
      "cube of 4 is:64\n"
     ]
    }
   ],
   "source": [
    "# Find Square and Cube\n",
    "def square_and_cube(n):\n",
    "    print(f\"square of {n} is:{n**2}\")\n",
    "    print(f\"cube of {n} is:{n**3}\")\n",
    "num=int(input(\"Enter a number:\"))\n",
    "square_and_cube(num)"
   ]
  },
  {
   "cell_type": "code",
   "execution_count": 34,
   "id": "0a13759d-bd0f-4bad-bd35-503743b47445",
   "metadata": {},
   "outputs": [
    {
     "name": "stdin",
     "output_type": "stream",
     "text": [
      "Enter a string: himanshu\n"
     ]
    },
    {
     "name": "stdout",
     "output_type": "stream",
     "text": [
      "Vowel count in himanshu is:3\n"
     ]
    }
   ],
   "source": [
    "# Count Vowels in String\n",
    "def count_vowels(str):\n",
    "    str=str.lower()\n",
    "    count=0\n",
    "    for i in str:\n",
    "        if (i==\"a\" or i==\"e\" or i==\"i\" or i==\"o\" or i==\"u\"):\n",
    "            count+=1\n",
    "    return count\n",
    "\n",
    "string=input(\"Enter a string:\")\n",
    "print(f\"Vowel count in {string} is:{count_vowels(string)}\")"
   ]
  },
  {
   "cell_type": "code",
   "execution_count": 6,
   "id": "3b6646cc-5722-4d90-92f3-252838ca03e5",
   "metadata": {},
   "outputs": [
    {
     "name": "stdin",
     "output_type": "stream",
     "text": [
      "Enter the number you want to check where palindrome or not 7887\n"
     ]
    },
    {
     "name": "stdout",
     "output_type": "stream",
     "text": [
      "7887 is palindrome number\n"
     ]
    }
   ],
   "source": [
    "# Check Palindrome Number\n",
    "def is_palindrome(n):\n",
    "    temp=n\n",
    "    rev=0\n",
    "    digit=0\n",
    "    while temp>0:\n",
    "        digit=temp%10\n",
    "        rev=rev*10+digit\n",
    "        temp//=10\n",
    "    return n==rev\n",
    "num=int(input(\"Enter the number you want to check where palindrome or not\"))\n",
    "if is_palindrome(num):\n",
    "    print(f\"{num} is palindrome number\")\n",
    "else:\n",
    "    print(f\"{num} is not a palindrome number\")"
   ]
  },
  {
   "cell_type": "code",
   "execution_count": 12,
   "id": "ea41bf32-8209-4c50-9a36-989b3e884278",
   "metadata": {},
   "outputs": [
    {
     "name": "stdin",
     "output_type": "stream",
     "text": [
      "Enter how many terms you want:  7\n"
     ]
    },
    {
     "name": "stdout",
     "output_type": "stream",
     "text": [
      "Fibonacci sequence:\n",
      "0 1 1 2 3 5 8 "
     ]
    }
   ],
   "source": [
    "def fibonacci(n):\n",
    "    if n <= 0:\n",
    "        return 0\n",
    "    elif n == 1:\n",
    "        return 0\n",
    "    elif n == 2:\n",
    "        return 1\n",
    "    else:\n",
    "        return fibonacci(n - 1) + fibonacci(n - 2)\n",
    "\n",
    "num = int(input(\"Enter how many terms you want: \"))\n",
    "print(\"Fibonacci sequence:\")\n",
    "for i in range(1, num + 1):\n",
    "    print(fibonacci(i), end=\" \")\n"
   ]
  },
  {
   "cell_type": "code",
   "execution_count": 20,
   "id": "26a6ee43-83ab-4c59-b38a-a6eea0afcd97",
   "metadata": {},
   "outputs": [
    {
     "name": "stdin",
     "output_type": "stream",
     "text": [
      "Enter number 1:  120\n",
      "Enter number 2:  150\n"
     ]
    },
    {
     "name": "stdout",
     "output_type": "stream",
     "text": [
      "GCD of 120 and 150 is: 30\n"
     ]
    }
   ],
   "source": [
    "# Find GCD (Greatest Common Divisor)\n",
    "def gcd_of_two_numbers(a,b):\n",
    "    small=min(a,b)\n",
    "    gcd=0\n",
    "    for i in range(1,small+1):\n",
    "        if a%i==0 and b%i==0:\n",
    "            gcd=i\n",
    "    return gcd\n",
    "num1=int(input(\"Enter number 1: \"))\n",
    "num2=int(input(\"Enter number 2: \"))\n",
    "print(f\"GCD of {num1} and {num2} is: {gcd_of_two_numbers(num1,num2)}\")"
   ]
  },
  {
   "cell_type": "code",
   "execution_count": 24,
   "id": "69cfccee-78d1-44bd-9a79-0e53531f3201",
   "metadata": {},
   "outputs": [
    {
     "name": "stdin",
     "output_type": "stream",
     "text": [
      "Enter a number to check wheter armstrong or not: 153\n"
     ]
    },
    {
     "name": "stdout",
     "output_type": "stream",
     "text": [
      "153 is armstrong number\n"
     ]
    }
   ],
   "source": [
    "# Check Armstrong Number\n",
    "def is_armstrong(n):\n",
    "    temp=n\n",
    "    digit=0\n",
    "    cubesum=0\n",
    "    while temp>0:\n",
    "        digit=temp%10\n",
    "        cubesum=cubesum+(digit**3)\n",
    "        temp//=10\n",
    "    return n==cubesum\n",
    "num=int(input(\"Enter a number to check wheter armstrong or not:\"))\n",
    "if is_armstrong(num):\n",
    "    print(f\"{num} is armstrong number\")\n",
    "else:\n",
    "    print(f\"{num} is not a armstrong number\")"
   ]
  },
  {
   "cell_type": "code",
   "execution_count": 27,
   "id": "34055acc-d913-4917-8f14-d4256c03da70",
   "metadata": {},
   "outputs": [
    {
     "name": "stdin",
     "output_type": "stream",
     "text": [
      "Enter a sentence:  hey my name is himanshu\n"
     ]
    },
    {
     "name": "stdout",
     "output_type": "stream",
     "text": [
      "Number of words in the sentence: 5\n"
     ]
    }
   ],
   "source": [
    "def count_words(sentence):\n",
    "    words = sentence.split()\n",
    "    return len(words)\n",
    "text = input(\"Enter a sentence: \")\n",
    "print(\"Number of words in the sentence:\", count_words(text))"
   ]
  },
  {
   "cell_type": "code",
   "execution_count": null,
   "id": "f387aa32-0a4c-4b95-ad0f-66e4e6fbc607",
   "metadata": {},
   "outputs": [],
   "source": []
  }
 ],
 "metadata": {
  "kernelspec": {
   "display_name": "Python 3 (ipykernel)",
   "language": "python",
   "name": "python3"
  },
  "language_info": {
   "codemirror_mode": {
    "name": "ipython",
    "version": 3
   },
   "file_extension": ".py",
   "mimetype": "text/x-python",
   "name": "python",
   "nbconvert_exporter": "python",
   "pygments_lexer": "ipython3",
   "version": "3.13.7"
  }
 },
 "nbformat": 4,
 "nbformat_minor": 5
}
