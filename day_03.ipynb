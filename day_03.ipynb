{
 "cells": [
  {
   "cell_type": "code",
   "execution_count": 3,
   "id": "e8f02c40-59d8-412f-bb17-1e665228b0a2",
   "metadata": {},
   "outputs": [
    {
     "name": "stdin",
     "output_type": "stream",
     "text": [
      "Enter your name: himanshu\n",
      "enter a num: 77\n"
     ]
    },
    {
     "name": "stdout",
     "output_type": "stream",
     "text": [
      "himanshu\n",
      "77\n"
     ]
    }
   ],
   "source": [
    "#Taking user input \n",
    "name=input(\"Enter your name:\")\n",
    "num=int(input(\"enter a num:\"))\n",
    "print(name)\n",
    "print(num)"
   ]
  },
  {
   "cell_type": "code",
   "execution_count": 1,
   "id": "f4006ec7-95ff-47bd-bc08-9e02f63bdb15",
   "metadata": {},
   "outputs": [],
   "source": [
    "#String :-collection of characters enclsoed in single quotes('), double quotes(\") or tripple quotes('''/\"\"\")\n",
    "#example:-\n",
    "# s1='Hello'\n",
    "# s2=\"World\"\n",
    "# s3='''This is a\n",
    "# multiline string'''"
   ]
  },
  {
   "cell_type": "code",
   "execution_count": 2,
   "id": "871b7bbf-ada4-442d-ac11-518b0abb187d",
   "metadata": {},
   "outputs": [
    {
     "name": "stdout",
     "output_type": "stream",
     "text": [
      "H\n",
      "i\n",
      "u\n",
      "n\n"
     ]
    }
   ],
   "source": [
    "#indexing :- accesing charaters of a string\n",
    "name=\"Himanshu\"\n",
    "print(name[0])\n",
    "print(name[1])\n",
    "print(name[-1])\n",
    "print(name[-4])"
   ]
  },
  {
   "cell_type": "code",
   "execution_count": 6,
   "id": "5a0ad2f5-a3d1-44b4-bbbd-ab5799f8258d",
   "metadata": {},
   "outputs": [
    {
     "name": "stdout",
     "output_type": "stream",
     "text": [
      "Pythonprogramming\n",
      "Python\n",
      "Python\n",
      "programming\n",
      "programmin\n",
      "Ptopormig\n"
     ]
    }
   ],
   "source": [
    "#slicing :- obtaining a substring of a string\n",
    "#syntax:- string[start:end:step]\n",
    "text=\"Pythonprogramming\"\n",
    "print(text)\n",
    "print(text[0:6])  # end index is not included,(n-1)is included\n",
    "print(text[:6])\n",
    "print(text[6:])\n",
    "print(text[-11:-1])\n",
    "\n",
    "#step:-interval/jumps\n",
    "print(text[::2])"
   ]
  },
  {
   "cell_type": "code",
   "execution_count": 10,
   "id": "9985532f-998b-4830-a1c4-6deb9a2393af",
   "metadata": {},
   "outputs": [
    {
     "name": "stdout",
     "output_type": "stream",
     "text": [
      "hello,World\n",
      "hello, World\n",
      "hello,hello,hello,\n",
      "True\n",
      "True\n"
     ]
    }
   ],
   "source": [
    "#operations on strings\n",
    "s1=\"hello,\"\n",
    "s2=\"World\"\n",
    "print(s1+s2)\n",
    "print(s1+\" \"+ s2)\n",
    "print(s1*3)\n",
    "print(\"h\" in s1)    # return true if h is present in s1=hello\n",
    "print(\"g\" not in s2)  #return true if g is not present in s1=hello\n"
   ]
  },
  {
   "cell_type": "code",
   "execution_count": 32,
   "id": "40557911-e487-4fa7-b38a-0d063c2565e3",
   "metadata": {},
   "outputs": [
    {
     "name": "stdout",
     "output_type": "stream",
     "text": [
      "hello world, hi world!!! \n",
      "HELLO WORLD, HI WORLD!!! \n",
      "hello Himanshu, hi Himanshu!!! \n",
      "hello World, hi World!!!\n",
      "hello World, hi World!!! \n",
      "Hello world, hi world!!! \n"
     ]
    }
   ],
   "source": [
    "#String methods:- built in functions used with strong only\n",
    "#Strings are immutable hence the methods do not modify orignal string instead they return new string\n",
    "str=\"hello World, hi World!!! \"\n",
    "len(str)\n",
    "print(str.lower())\n",
    "print(str.upper())\n",
    "print(str.replace(\"World\",\"Himanshu\") )\n",
    "print(str.strip())                        # removes white spaces before and after string\n",
    "print(str.rstrip(\"!\"))                    # removes any trailing charater \n",
    "print(str.capitalize())                   # makes first character capital and rest all lowercase"
   ]
  },
  {
   "cell_type": "code",
   "execution_count": 39,
   "id": "a49823e8-874e-4804-9873-b0da9922ac6a",
   "metadata": {},
   "outputs": [
    {
     "name": "stdout",
     "output_type": "stream",
     "text": [
      "True\n",
      "True\n"
     ]
    }
   ],
   "source": [
    "# more functions:\n",
    "str1=\"hello\"\n",
    "str2=\"WORLD\"\n",
    "print(str1.islower())\n",
    "print(str2.isupper())\n"
   ]
  }
 ],
 "metadata": {
  "kernelspec": {
   "display_name": "Python 3 (ipykernel)",
   "language": "python",
   "name": "python3"
  },
  "language_info": {
   "codemirror_mode": {
    "name": "ipython",
    "version": 3
   },
   "file_extension": ".py",
   "mimetype": "text/x-python",
   "name": "python",
   "nbconvert_exporter": "python",
   "pygments_lexer": "ipython3",
   "version": "3.13.7"
  }
 },
 "nbformat": 4,
 "nbformat_minor": 5
}
