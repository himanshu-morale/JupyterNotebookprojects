{
 "cells": [
  {
   "cell_type": "markdown",
   "id": "a260ac35-81d8-4166-b3f7-05e7aa0cf3ca",
   "metadata": {},
   "source": [
    "**Topic: String**"
   ]
  },
  {
   "cell_type": "markdown",
   "id": "2945cd5e-2640-480e-bb87-717576d313b4",
   "metadata": {},
   "source": [
    "**LEVEL: Basic**"
   ]
  },
  {
   "cell_type": "code",
   "execution_count": 1,
   "id": "4a8f4424-91a3-4bc8-9e63-d2c6dc9afee8",
   "metadata": {},
   "outputs": [
    {
     "name": "stdin",
     "output_type": "stream",
     "text": [
      "Enter a string: hello\n"
     ]
    },
    {
     "name": "stdout",
     "output_type": "stream",
     "text": [
      "5\n"
     ]
    }
   ],
   "source": [
    "# Write a program to input a string and print its length.\n",
    "str=input(\"Enter a string:\")\n",
    "print(len(str))"
   ]
  },
  {
   "cell_type": "code",
   "execution_count": 2,
   "id": "bad5e51f-dab5-4248-9051-f6ba15a9288d",
   "metadata": {},
   "outputs": [
    {
     "name": "stdin",
     "output_type": "stream",
     "text": [
      "Enter a string: hello\n"
     ]
    },
    {
     "name": "stdout",
     "output_type": "stream",
     "text": [
      "First character: h\n",
      "Last character: o\n"
     ]
    }
   ],
   "source": [
    "# Input a string and print its first and last character.\n",
    "str=input(\"Enter a string:\")\n",
    "print(\"First character:\",str[0])\n",
    "print(\"Last character:\",str[-1])"
   ]
  },
  {
   "cell_type": "code",
   "execution_count": 15,
   "id": "b8152837-228a-4d0d-9df1-5366d8bad34f",
   "metadata": {},
   "outputs": [
    {
     "name": "stdin",
     "output_type": "stream",
     "text": [
      "Enter a string: HeLLo World\n",
      "Enter the character you want to check: w\n"
     ]
    },
    {
     "name": "stdout",
     "output_type": "stream",
     "text": [
      "w is present in HeLLo World\n"
     ]
    }
   ],
   "source": [
    "# Write a program to check whether a given character is present in a string or not.\n",
    "def char_check(str,char):\n",
    "    str=str.lower()\n",
    "    char=char.lower()\n",
    "    for i in str:\n",
    "        if i==char:\n",
    "            return True\n",
    "    return False\n",
    "str=input(\"Enter a string:\")\n",
    "char=input(\"Enter the character you want to check:\")\n",
    "if char_check(str,char):\n",
    "    print(f\"{char} is present in {str}\")\n",
    "else:\n",
    "    print(f\"{char} is not present in {str}\")\n"
   ]
  },
  {
   "cell_type": "code",
   "execution_count": 16,
   "id": "fbea7e3d-ec40-4951-8f97-81d8e965562e",
   "metadata": {},
   "outputs": [
    {
     "name": "stdin",
     "output_type": "stream",
     "text": [
      "Enter a string: hello\n"
     ]
    },
    {
     "name": "stdout",
     "output_type": "stream",
     "text": [
      "Uppercase: HELLO\n",
      "Lowercase: hello\n",
      "Titlecase: Hello\n"
     ]
    }
   ],
   "source": [
    "# Input a string and print it in uppercase, lowercase, and title case.\n",
    "str=input(\"Enter a string:\")\n",
    "print(\"Uppercase:\",str.upper())\n",
    "print(\"Lowercase:\",str.lower())\n",
    "print(\"Titlecase:\",str.title())"
   ]
  },
  {
   "cell_type": "code",
   "execution_count": 18,
   "id": "788df134-a992-42b7-94e3-73749daa62fa",
   "metadata": {},
   "outputs": [
    {
     "name": "stdin",
     "output_type": "stream",
     "text": [
      "Enter a string: Hello himanshu\n"
     ]
    },
    {
     "name": "stdout",
     "output_type": "stream",
     "text": [
      "vowel count: 5\n",
      "consonant count: 9\n"
     ]
    }
   ],
   "source": [
    "# Write a program to count the number of vowels and consonants in a string.\n",
    "str=input(\"Enter a string:\")\n",
    "str=str.lower()\n",
    "vowel=0\n",
    "consonant=0\n",
    "for i in str:\n",
    "    if (i==\"a\" or i==\"e\" or i==\"i\" or i==\"o\" or i==\"u\" ):\n",
    "        vowel+=1\n",
    "    elif(i==\" \"):\n",
    "        pass\n",
    "    else:\n",
    "        consonant+=1\n",
    "print(\"vowel count:\",vowel)\n",
    "print(\"consonant count:\",consonant)"
   ]
  },
  {
   "cell_type": "code",
   "execution_count": 22,
   "id": "a4da5d6d-6fa7-42fc-931e-586da9457895",
   "metadata": {},
   "outputs": [
    {
     "name": "stdin",
     "output_type": "stream",
     "text": [
      "Enter a string: hello\n"
     ]
    },
    {
     "name": "stdout",
     "output_type": "stream",
     "text": [
      "olleh\n"
     ]
    }
   ],
   "source": [
    "# Input a string and print it in reverse order.\n",
    "str=input(\"Enter a string:\")\n",
    "print(str[::-1])"
   ]
  },
  {
   "cell_type": "code",
   "execution_count": 26,
   "id": "ccc2a9fd-ae32-45c4-a1eb-bd3b2407b341",
   "metadata": {},
   "outputs": [
    {
     "name": "stdin",
     "output_type": "stream",
     "text": [
      "Enter a string: Naman\n"
     ]
    },
    {
     "name": "stdout",
     "output_type": "stream",
     "text": [
      "Palindrome\n"
     ]
    }
   ],
   "source": [
    "# Write a program to check whether a string is palindrome (same forwards and backwards).\n",
    "str=input(\"Enter a string:\")\n",
    "str=str.lower()\n",
    "rev=str[::-1]\n",
    "if rev==str:\n",
    "    print(\"Palindrome\")\n",
    "else:\n",
    "    print(\"Not Palindrome\")"
   ]
  },
  {
   "cell_type": "code",
   "execution_count": 30,
   "id": "920be592-4e4a-4761-ac79-ce32fba121f8",
   "metadata": {},
   "outputs": [
    {
     "name": "stdin",
     "output_type": "stream",
     "text": [
      "Enter a string: Hello my name is himanshu\n"
     ]
    },
    {
     "name": "stdout",
     "output_type": "stream",
     "text": [
      "Number of words in \"Hello my name is himanshu:\" 5\n"
     ]
    }
   ],
   "source": [
    "# Input a string and print the number of words in it.\n",
    "str=input(\"Enter a string:\")\n",
    "words=str.split()\n",
    "print(f\"Number of words in \\\"{str}:\\\"\",len(words))"
   ]
  },
  {
   "cell_type": "code",
   "execution_count": 32,
   "id": "3b5dba31-7b8a-42c9-9483-6a793cdc1813",
   "metadata": {},
   "outputs": [
    {
     "name": "stdout",
     "output_type": "stream",
     "text": [
      "Hellomynameishimanshu\n"
     ]
    }
   ],
   "source": [
    "# Write a program to remove all spaces from a string.\n",
    "str=\"Hello my name is himanshu\"\n",
    "print(str.replace(\" \",\"\"))"
   ]
  },
  {
   "cell_type": "code",
   "execution_count": 34,
   "id": "9f0e4f96-1062-432d-bd24-13457f44602c",
   "metadata": {},
   "outputs": [
    {
     "name": "stdin",
     "output_type": "stream",
     "text": [
      "Enter a string: 12345\n"
     ]
    },
    {
     "name": "stdout",
     "output_type": "stream",
     "text": [
      "contains only digits\n"
     ]
    }
   ],
   "source": [
    "# Input a string and check if it contains only digits.\n",
    "str=input(\"Enter a string:\")\n",
    "if str.isdigit():\n",
    "    print(\"contains only digits\")\n",
    "else:\n",
    "    print(\"contains alphabets\")"
   ]
  },
  {
   "cell_type": "markdown",
   "id": "bfe4e3b0-45cf-4c13-b0b2-2237aa302d39",
   "metadata": {},
   "source": [
    "<br><br>**Level:Intermediate**"
   ]
  },
  {
   "cell_type": "code",
   "execution_count": 36,
   "id": "f42b19ba-c491-451c-a836-9e613d58e8d5",
   "metadata": {},
   "outputs": [
    {
     "name": "stdout",
     "output_type": "stream",
     "text": [
      "Hello Himanshu, how are you Himanshu\n"
     ]
    },
    {
     "data": {
      "text/plain": [
       "'Hello Sir, how are you Sir'"
      ]
     },
     "execution_count": 36,
     "metadata": {},
     "output_type": "execute_result"
    }
   ],
   "source": [
    "# Replace all occurrences of a word in a sentence with another word (use .replace()).\n",
    "str=\"Hello Himanshu, how are you Himanshu\"\n",
    "print(str)\n",
    "str.replace(\"Himanshu\",\"Sir\")"
   ]
  },
  {
   "cell_type": "code",
   "execution_count": 39,
   "id": "77227ce1-eb3c-47d1-8413-dcd6d493f1e1",
   "metadata": {},
   "outputs": [
    {
     "name": "stdin",
     "output_type": "stream",
     "text": [
      "Enter a string: i am himanshu i love java i love python\n",
      "Enter substring you want frequency of: love\n"
     ]
    },
    {
     "name": "stdout",
     "output_type": "stream",
     "text": [
      "2\n"
     ]
    }
   ],
   "source": [
    "# Count how many times a given substring appears in a string.\n",
    "str=input(\"Enter a string:\")\n",
    "substr=input(\"Enter substring you want frequency of:\")\n",
    "count=str.count(substr)\n",
    "print(count)\n",
    "    "
   ]
  },
  {
   "cell_type": "code",
   "execution_count": 41,
   "id": "8c29fd75-c2a6-449f-b0a2-0a91b134b65d",
   "metadata": {},
   "outputs": [
    {
     "name": "stderr",
     "output_type": "stream",
     "text": [
      "<>:3: SyntaxWarning: invalid escape sequence '\\,'\n",
      "<>:3: SyntaxWarning: invalid escape sequence '\\,'\n",
      "C:\\Users\\HIMANSHU\\AppData\\Local\\Temp\\ipykernel_29288\\2349103954.py:3: SyntaxWarning: invalid escape sequence '\\,'\n",
      "  punctuations = '''!()-[]{};:'\"\\,<>./?@#$%^&*_~'''\n"
     ]
    },
    {
     "name": "stdin",
     "output_type": "stream",
     "text": [
      "Enter a string:  Hello,how are you? himanshu\"\n"
     ]
    },
    {
     "name": "stdout",
     "output_type": "stream",
     "text": [
      "String without punctuation: Hellohow are you himanshu\n"
     ]
    }
   ],
   "source": [
    "# Write a program to remove punctuation marks from a string.\n",
    "string = input(\"Enter a string: \")\n",
    "punctuations = '''!()-[]{};:'\"\\,<>./?@#$%^&*_~'''\n",
    "\n",
    "for ch in punctuations:\n",
    "    string = string.replace(ch, \"\")\n",
    "\n",
    "print(\"String without punctuation:\", string)\n"
   ]
  },
  {
   "cell_type": "code",
   "execution_count": 42,
   "id": "12907d21-2741-4d79-a190-bad56e1569ac",
   "metadata": {},
   "outputs": [
    {
     "name": "stdin",
     "output_type": "stream",
     "text": [
      "Enter first string:  listen\n",
      "Enter second string:  silent\n"
     ]
    },
    {
     "name": "stdout",
     "output_type": "stream",
     "text": [
      "'listen' and 'silent' are anagrams\n"
     ]
    }
   ],
   "source": [
    "# Check whether two strings are anagrams (contain the same letters).\n",
    "def is_anagram(str1, str2):\n",
    "    str1 = str1.replace(\" \", \"\").lower()\n",
    "    str2 = str2.replace(\" \", \"\").lower()\n",
    "    return sorted(str1) == sorted(str2)\n",
    "string1 = input(\"Enter first string: \")\n",
    "string2 = input(\"Enter second string: \")\n",
    "if is_anagram(string1, string2):\n",
    "    print(f\"'{string1}' and '{string2}' are anagrams\")\n",
    "else:\n",
    "    print(f\"'{string1}' and '{string2}' are not anagrams\")"
   ]
  },
  {
   "cell_type": "code",
   "execution_count": 43,
   "id": "85661a88-5bb6-465d-b32c-e6b1b18e25d3",
   "metadata": {},
   "outputs": [
    {
     "name": "stdin",
     "output_type": "stream",
     "text": [
      "Enter a string game of thrones\n"
     ]
    },
    {
     "data": {
      "text/plain": [
       "'Game Of Thrones'"
      ]
     },
     "execution_count": 43,
     "metadata": {},
     "output_type": "execute_result"
    }
   ],
   "source": [
    "# Convert a string such that the first letter of every word becomes uppercase.\n",
    "str=input(\"Enter a string:\")\n",
    "str.title()"
   ]
  },
  {
   "cell_type": "code",
   "execution_count": 44,
   "id": "57018c83-74d0-44fc-84d4-9213fd00358d",
   "metadata": {},
   "outputs": [
    {
     "name": "stdin",
     "output_type": "stream",
     "text": [
      "Enter a string: Himanshu Morale\n"
     ]
    },
    {
     "name": "stdout",
     "output_type": "stream",
     "text": [
      "Upper count: 2\n",
      "lower count: 12\n"
     ]
    }
   ],
   "source": [
    "# Write a program to count the number of uppercase and lowercase letters.\n",
    "str=input(\"Enter a string:\")\n",
    "upper_count=0\n",
    "lower_count=0\n",
    "for i in str:\n",
    "    if i.isupper():\n",
    "        upper_count+=1\n",
    "    elif i.islower():\n",
    "        lower_count+=1\n",
    "print(\"Upper count:\",upper_count)\n",
    "print(\"lower count:\",lower_count)"
   ]
  },
  {
   "cell_type": "code",
   "execution_count": null,
   "id": "07ba930c-5651-4423-954b-bc94e9d1e07e",
   "metadata": {},
   "outputs": [],
   "source": [
    "# Check if a string starts with \"Py\" and ends with \"on\".\n",
    "str=\"python\"\n",
    "if str.starw\n"
   ]
  }
 ],
 "metadata": {
  "kernelspec": {
   "display_name": "Python 3 (ipykernel)",
   "language": "python",
   "name": "python3"
  },
  "language_info": {
   "codemirror_mode": {
    "name": "ipython",
    "version": 3
   },
   "file_extension": ".py",
   "mimetype": "text/x-python",
   "name": "python",
   "nbconvert_exporter": "python",
   "pygments_lexer": "ipython3",
   "version": "3.13.7"
  }
 },
 "nbformat": 4,
 "nbformat_minor": 5
}
