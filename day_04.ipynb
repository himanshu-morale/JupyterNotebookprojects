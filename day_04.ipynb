{
 "cells": [
  {
   "cell_type": "code",
   "execution_count": 1,
   "id": "280292cc-bd57-42e0-85e9-4f517ae17993",
   "metadata": {},
   "outputs": [],
   "source": [
    "# conditional statements:- used to make desicion in programs,i.e execute certain block of code if a condition is true\n",
    "# types:- 1. if statements\n",
    "#         2. if else statements\n",
    "#         3. if elif else statements\n",
    "#         4. nested if statement"
   ]
  },
  {
   "cell_type": "code",
   "execution_count": 5,
   "id": "fef93009-099f-49e2-94cf-a285a94399b4",
   "metadata": {},
   "outputs": [
    {
     "name": "stdout",
     "output_type": "stream",
     "text": [
      "Pass\n"
     ]
    }
   ],
   "source": [
    "#1. if statement:\n",
    "marks=70\n",
    "if marks>=60:\n",
    "    print(\"Pass\")"
   ]
  },
  {
   "cell_type": "code",
   "execution_count": 6,
   "id": "2b7f19eb-ecbb-4c73-8397-46a9da54e90d",
   "metadata": {},
   "outputs": [
    {
     "name": "stdout",
     "output_type": "stream",
     "text": [
      "Fail\n"
     ]
    }
   ],
   "source": [
    "#2. if else statement:\n",
    "marks=30\n",
    "if marks>=60:\n",
    "    print(\"Pass\")\n",
    "else: \n",
    "    print(\"Fail\")"
   ]
  },
  {
   "cell_type": "code",
   "execution_count": 7,
   "id": "27753854-59c4-4ef0-a5e4-8a9830b15633",
   "metadata": {},
   "outputs": [
    {
     "name": "stdin",
     "output_type": "stream",
     "text": [
      "Enter marks: 67\n"
     ]
    },
    {
     "name": "stdout",
     "output_type": "stream",
     "text": [
      "D\n"
     ]
    }
   ],
   "source": [
    "#3. if elif else statement:\n",
    "marks=int(input(\"Enter marks:\"))\n",
    "if marks>=90:\n",
    "    print(\"A\")\n",
    "elif marks>=80:\n",
    "    print(\"B\")\n",
    "elif marks>=70:\n",
    "    print(\"C\")\n",
    "elif marks>=60:\n",
    "    print(\"D\")\n",
    "else:\n",
    "    print(\"Fail\")"
   ]
  },
  {
   "cell_type": "code",
   "execution_count": 11,
   "id": "de1ea554-6012-4287-af30-deb16d1ed5e4",
   "metadata": {},
   "outputs": [
    {
     "name": "stdout",
     "output_type": "stream",
     "text": [
      "num is greater than 5 and even\n"
     ]
    }
   ],
   "source": [
    "#4. Nested if statements:\n",
    "num=10\n",
    "if(num>5):\n",
    "    if(num%2==0):\n",
    "        print(\"num is greater than 5 and even\")\n",
    "    else:\n",
    "        print(\"num is greater than 5 and odd\")\n",
    "else:\n",
    "    print(\"num is not greater than 5\")"
   ]
  }
 ],
 "metadata": {
  "kernelspec": {
   "display_name": "Python 3 (ipykernel)",
   "language": "python",
   "name": "python3"
  },
  "language_info": {
   "codemirror_mode": {
    "name": "ipython",
    "version": 3
   },
   "file_extension": ".py",
   "mimetype": "text/x-python",
   "name": "python",
   "nbconvert_exporter": "python",
   "pygments_lexer": "ipython3",
   "version": "3.13.7"
  }
 },
 "nbformat": 4,
 "nbformat_minor": 5
}
