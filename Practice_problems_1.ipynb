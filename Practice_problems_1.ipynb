{
 "cells": [
  {
   "cell_type": "markdown",
   "id": "c258ded6-9981-414f-ae92-058ed4b17bf9",
   "metadata": {},
   "source": [
    "**Topics: Basics (Variables, Input/Output, Data Types).**"
   ]
  },
  {
   "cell_type": "code",
   "execution_count": 19,
   "id": "8d65cc5b-c2f0-4a2d-abb9-ea8ff17e09e7",
   "metadata": {},
   "outputs": [
    {
     "name": "stdout",
     "output_type": "stream",
     "text": [
      "your name is : Himanshu\n",
      "your age is : 20\n",
      "your city is : Nagpur\n"
     ]
    }
   ],
   "source": [
    "# Write a program to print your name, age, and city.\n",
    "name=\"Himanshu\"\n",
    "age=20\n",
    "city=\"Nagpur\"\n",
    "print(\"your name is :\",name)\n",
    "print(\"your age is :\",age)\n",
    "print(\"your city is :\",city)"
   ]
  },
  {
   "cell_type": "code",
   "execution_count": 5,
   "id": "cf5fee86-0a0b-4883-9459-57b4bf20f98c",
   "metadata": {},
   "outputs": [
    {
     "name": "stdin",
     "output_type": "stream",
     "text": [
      "Enter a number 20\n",
      "Enter another number 30\n"
     ]
    },
    {
     "name": "stdout",
     "output_type": "stream",
     "text": [
      "sum is: 50\n"
     ]
    }
   ],
   "source": [
    "# Take two numbers as input and print their sum.\n",
    "a= int(input(\"Enter a number\"))\n",
    "b= int(input(\"Enter another number\"))\n",
    "sum=a+b\n",
    "print(\"sum is:\",sum)"
   ]
  },
  {
   "cell_type": "code",
   "execution_count": 7,
   "id": "b7aa30bc-5e28-457f-a1b5-bdcec61b7d96",
   "metadata": {},
   "outputs": [
    {
     "name": "stdin",
     "output_type": "stream",
     "text": [
      "Enter length of rectangle 10\n",
      "Enter breadth of rectangle 30\n"
     ]
    },
    {
     "name": "stdout",
     "output_type": "stream",
     "text": [
      "Area of rectangle is: 300\n"
     ]
    }
   ],
   "source": [
    "# Write a program to find the area of a rectangle.\n",
    "length=int(input(\"Enter length of rectangle:\"))\n",
    "breadth=int(input(\"Enter breadth of rectangle:\"))\n",
    "area=length*breadth\n",
    "print(\"Area of rectangle is:\",area)"
   ]
  },
  {
   "cell_type": "code",
   "execution_count": 8,
   "id": "fdd98b1e-cead-4f8f-af6f-d00994c28423",
   "metadata": {},
   "outputs": [
    {
     "name": "stdin",
     "output_type": "stream",
     "text": [
      "Enter temp in celcius 35\n"
     ]
    },
    {
     "name": "stdout",
     "output_type": "stream",
     "text": [
      "Temp in fahrenheit 95.0\n"
     ]
    }
   ],
   "source": [
    "# Convert temperature from Celsius to Fahrenheit.\n",
    "celcius=int(input(\"Enter temp in celcius:\"))\n",
    "far=(celcius*9/5)+32\n",
    "print(\"Temp in fahrenheit:\",far)"
   ]
  },
  {
   "cell_type": "code",
   "execution_count": 9,
   "id": "5cabf0f4-1ee5-499e-8ab5-5b0cc363b945",
   "metadata": {},
   "outputs": [
    {
     "name": "stdin",
     "output_type": "stream",
     "text": [
      "Enter a number 3\n"
     ]
    },
    {
     "name": "stdout",
     "output_type": "stream",
     "text": [
      "<class 'str'>\n"
     ]
    }
   ],
   "source": [
    "# Take a number from the user and check its data type using type().\n",
    "a= input(\"Enter a number:\")\n",
    "print(type(a))"
   ]
  },
  {
   "cell_type": "code",
   "execution_count": 13,
   "id": "9c2cadf5-3895-4f07-8869-42329056c327",
   "metadata": {},
   "outputs": [
    {
     "name": "stdout",
     "output_type": "stream",
     "text": [
      "Before swapping\n",
      "a is: 34\n",
      "b is : 56\n",
      "After swapping\n",
      "a is: 56\n",
      "b is : 34\n"
     ]
    }
   ],
   "source": [
    "# Write a program to swap two numbers using a temporary variable.\n",
    "a=34\n",
    "b=56\n",
    "print(\"Before swapping\")\n",
    "print(\"a is:\",a)\n",
    "print(\"b is :\",b)\n",
    "c=a\n",
    "a=b\n",
    "b=c\n",
    "print(\"After swapping\")\n",
    "print(\"a is:\",a)\n",
    "print(\"b is :\",b)"
   ]
  },
  {
   "cell_type": "code",
   "execution_count": 14,
   "id": "b6612a09-ccd8-43ab-ae41-52ce26b5cebd",
   "metadata": {},
   "outputs": [
    {
     "name": "stdin",
     "output_type": "stream",
     "text": [
      "Enter ur name himanshu\n"
     ]
    },
    {
     "name": "stdout",
     "output_type": "stream",
     "text": [
      "Hello himanshu\n"
     ]
    }
   ],
   "source": [
    "# Take user input for name and print a greeting message: “Hello, <name>!”.\n",
    "name=input(\"Enter ur name:\")\n",
    "print(f\"Hello {name}\")"
   ]
  },
  {
   "cell_type": "code",
   "execution_count": 15,
   "id": "56b303d7-a0e8-4bc3-b4b8-84639f6aff20",
   "metadata": {},
   "outputs": [
    {
     "name": "stdout",
     "output_type": "stream",
     "text": [
      "simple intrest is: 21600.0\n"
     ]
    }
   ],
   "source": [
    "# Write a program to calculate simple interest (SI = P*R*T / 100).\n",
    "pi= 15000\n",
    "r=24\n",
    "t=6\n",
    "si=(pi*r*t)/100\n",
    "print(\"simple intrest is:\",si)"
   ]
  },
  {
   "cell_type": "code",
   "execution_count": 17,
   "id": "f37b274a-6455-442a-ad4b-897731c31bf1",
   "metadata": {},
   "outputs": [
    {
     "name": "stdin",
     "output_type": "stream",
     "text": [
      "Enter a number 3\n"
     ]
    },
    {
     "name": "stdout",
     "output_type": "stream",
     "text": [
      "Square of 3 is 9\n",
      "Square of 3 is 27\n"
     ]
    }
   ],
   "source": [
    "# Write a program to find the square and cube of a number.\n",
    "num=int(input(\"Enter a number:\"))\n",
    "print(f\"Square of {num} is {num**2}\")\n",
    "print(f\"Square of {num} is {num**3}\")"
   ]
  },
  {
   "cell_type": "code",
   "execution_count": 18,
   "id": "08f5f86e-9d81-48a7-96eb-9eb6e49a0da8",
   "metadata": {},
   "outputs": [
    {
     "name": "stdin",
     "output_type": "stream",
     "text": [
      "Enter number 1 4\n",
      "Enter number 2 4\n",
      "Enter number 3 4\n"
     ]
    },
    {
     "name": "stdout",
     "output_type": "stream",
     "text": [
      "Average of 3 numbers is: 4.0\n"
     ]
    }
   ],
   "source": [
    "# Take three numbers as input and find their average.\n",
    "a=int(input(\"Enter number 1:\"))\n",
    "b=int(input(\"Enter number 2:\"))\n",
    "c=int(input(\"Enter number 3:\"))\n",
    "avg=(a+b+c)/3\n",
    "print(\"Average of 3 numbers is:\",avg)"
   ]
  }
 ],
 "metadata": {
  "kernelspec": {
   "display_name": "Python 3 (ipykernel)",
   "language": "python",
   "name": "python3"
  },
  "language_info": {
   "codemirror_mode": {
    "name": "ipython",
    "version": 3
   },
   "file_extension": ".py",
   "mimetype": "text/x-python",
   "name": "python",
   "nbconvert_exporter": "python",
   "pygments_lexer": "ipython3",
   "version": "3.13.7"
  }
 },
 "nbformat": 4,
 "nbformat_minor": 5
}
