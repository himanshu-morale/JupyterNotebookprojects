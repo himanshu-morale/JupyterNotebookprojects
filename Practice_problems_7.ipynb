{
 "cells": [
  {
   "cell_type": "markdown",
   "id": "3efe5821-ead9-47e9-b4a0-584264a8a39e",
   "metadata": {},
   "source": [
    "**Topic: Tuples**"
   ]
  },
  {
   "cell_type": "code",
   "execution_count": 4,
   "id": "dd6031bc-b669-48bc-a159-6652349120b5",
   "metadata": {},
   "outputs": [
    {
     "name": "stdout",
     "output_type": "stream",
     "text": [
      "Name:  Himanshu Morale\n",
      "Age:  20\n",
      "City:  Nagpur\n"
     ]
    }
   ],
   "source": [
    "# Create a tuple containing your name, age, and city, and print each value separately.\n",
    "tup=(\"Himanshu Morale\",20,\"Nagpur\")\n",
    "print(\"Name: \",tup[0])\n",
    "print(\"Age: \",tup[1])\n",
    "print(\"City: \",tup[2])"
   ]
  },
  {
   "cell_type": "code",
   "execution_count": 7,
   "id": "637db60f-6214-4729-8980-f5eea0a90df2",
   "metadata": {},
   "outputs": [
    {
     "name": "stdout",
     "output_type": "stream",
     "text": [
      "10\n",
      "30\n",
      "50\n"
     ]
    }
   ],
   "source": [
    "# Given the tuple t = (10, 20, 30, 40, 50), print the First element,Last element adnd Middle element\n",
    "t=(10,20,30,40,50)\n",
    "print(t[0])\n",
    "print(t[len(t)//2])\n",
    "print(t[-1])"
   ]
  },
  {
   "cell_type": "code",
   "execution_count": 8,
   "id": "d01007be-b0ee-4caf-9cec-fc6b39dd6b31",
   "metadata": {},
   "outputs": [
    {
     "name": "stdout",
     "output_type": "stream",
     "text": [
      "100 is not present in tuple\n"
     ]
    }
   ],
   "source": [
    "# Write a program to check whether 100 exists in the tuple (10, 20, 30, 40, 50, 60, 70).\n",
    "t= (10, 20, 30, 40, 50, 60, 70)\n",
    "if (100 in t):\n",
    "    print(\"100 is present in tuple\")\n",
    "else:\n",
    "    print(\"100 is not present in tuple\")"
   ]
  },
  {
   "cell_type": "code",
   "execution_count": 9,
   "id": "c9dd8b14-6d52-4613-9d74-de84ff879b21",
   "metadata": {},
   "outputs": [
    {
     "name": "stdout",
     "output_type": "stream",
     "text": [
      "3\n",
      "4\n"
     ]
    }
   ],
   "source": [
    "# Given t = (5, 10, 15, 5, 20, 5),\n",
    "# Count how many times 5 appears.\n",
    "# Find the index of the first occurrence of 20.\n",
    "t = (5, 10, 15, 5, 20, 5)\n",
    "print(t.count(5))\n",
    "print(t.index(20))"
   ]
  },
  {
   "cell_type": "code",
   "execution_count": 10,
   "id": "c90c58cb-5aae-457d-ba7d-759c525331b0",
   "metadata": {},
   "outputs": [
    {
     "name": "stdout",
     "output_type": "stream",
     "text": [
      "(1, 2, 3, 4, 5, 6)\n",
      "(1, 2, 3, 4, 5, 6, 1, 2, 3, 4, 5, 6)\n"
     ]
    }
   ],
   "source": [
    "# Problem:\n",
    "# Concatenate two tuples (1, 2, 3) and (4, 5, 6).\n",
    "# Then, repeat the resulting tuple two times.\n",
    "t1=(1,2,3)\n",
    "t2=(4,5,6)\n",
    "t3=t1+t2\n",
    "print(t3)\n",
    "print(t3*2)"
   ]
  },
  {
   "cell_type": "code",
   "execution_count": 12,
   "id": "c3e50056-2cca-4e77-9132-ccf9cce23038",
   "metadata": {},
   "outputs": [
    {
     "name": "stdout",
     "output_type": "stream",
     "text": [
      "Himanshu\n",
      "21\n",
      "B.Tech\n",
      "CSE\n"
     ]
    }
   ],
   "source": [
    "# Problem:\n",
    "# Unpack the tuple student = (\"Himanshu\", 21, \"B.Tech\", \"CSE\")\n",
    "student = (\"Himanshu\", 21, \"B.Tech\", \"CSE\")\n",
    "name , age, degree ,branch =student\n",
    "print(name)\n",
    "print(age)\n",
    "print(degree)\n",
    "print(branch)"
   ]
  },
  {
   "cell_type": "code",
   "execution_count": 13,
   "id": "eef6e256-0795-4346-8504-020adfb3c20e",
   "metadata": {},
   "outputs": [
    {
     "name": "stdout",
     "output_type": "stream",
     "text": [
      "99\n",
      "5\n"
     ]
    }
   ],
   "source": [
    "# Problem:\n",
    "# Given a numeric tuple t = (11, 22, 5, 99, 34, 50),\n",
    "# print the maximum and minimum elements.\n",
    "t = (11, 22, 5, 99, 34, 50)\n",
    "print(max(t))\n",
    "print(min(t))\n"
   ]
  },
  {
   "cell_type": "code",
   "execution_count": 15,
   "id": "3f17976b-a213-495a-8296-121e0753bc5b",
   "metadata": {},
   "outputs": [
    {
     "name": "stdout",
     "output_type": "stream",
     "text": [
      "20\n"
     ]
    }
   ],
   "source": [
    "# t = (1, 2, (10, 20, 30), 3, 4)\n",
    "# Access the element 20 inside the nested tuple.\n",
    "t = (1, 2, (10, 20, 30), 3, 4)\n",
    "print(t[2][1])"
   ]
  },
  {
   "cell_type": "code",
   "execution_count": 19,
   "id": "9bfe007a-801c-499a-b2f3-0076128be03f",
   "metadata": {},
   "outputs": [
    {
     "name": "stdout",
     "output_type": "stream",
     "text": [
      "[10, 20, 30, 40]\n",
      "<class 'tuple'>\n"
     ]
    }
   ],
   "source": [
    "# Convert t = (10, 20, 30) to a list,\n",
    "# add 40 to it, and then convert it back to a tuple.\n",
    "t = (10, 20, 30)\n",
    "t=list(t)\n",
    "t.append(40)\n",
    "print(t)\n",
    "t=tuple(t)\n",
    "print(type(t))"
   ]
  },
  {
   "cell_type": "code",
   "execution_count": 20,
   "id": "71afe5b9-aa6b-407a-88e0-82e5e2a23c44",
   "metadata": {},
   "outputs": [
    {
     "name": "stdin",
     "output_type": "stream",
     "text": [
      "Enter num 1: 5\n",
      "Enter num 2: 5\n"
     ]
    },
    {
     "name": "stdout",
     "output_type": "stream",
     "text": [
      "(10, 0, 25, 1.0)\n"
     ]
    }
   ],
   "source": [
    "# Write a function calculate(a, b) that returns a tuple containing:\n",
    "# their sum\n",
    "# their difference\n",
    "# their product\n",
    "# their quotient\n",
    "def calculate(a,b):\n",
    "    return(a+b ,a-b,a*b,a/b)\n",
    "num1=int(input(\"Enter num 1:\"))\n",
    "num2=int(input(\"Enter num 2:\"))\n",
    "print(calculate(num1,num2))"
   ]
  }
 ],
 "metadata": {
  "kernelspec": {
   "display_name": "Python 3 (ipykernel)",
   "language": "python",
   "name": "python3"
  },
  "language_info": {
   "codemirror_mode": {
    "name": "ipython",
    "version": 3
   },
   "file_extension": ".py",
   "mimetype": "text/x-python",
   "name": "python",
   "nbconvert_exporter": "python",
   "pygments_lexer": "ipython3",
   "version": "3.13.7"
  }
 },
 "nbformat": 4,
 "nbformat_minor": 5
}
