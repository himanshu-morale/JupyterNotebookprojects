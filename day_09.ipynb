{
 "cells": [
  {
   "cell_type": "markdown",
   "id": "68d61247-bc3c-4c31-8ffc-56c3a4f71487",
   "metadata": {},
   "source": [
    "**Sets**"
   ]
  },
  {
   "cell_type": "code",
   "execution_count": 1,
   "id": "4f27e361-7f1a-4510-a755-7a3ddbc15473",
   "metadata": {},
   "outputs": [],
   "source": [
    "# sets are unordered collection of unique elements\n",
    "# no duplication allowed"
   ]
  },
  {
   "cell_type": "markdown",
   "id": "f7c9939b-5e4c-466a-9ab3-dde95e087422",
   "metadata": {},
   "source": [
    "**Creating a set**"
   ]
  },
  {
   "cell_type": "code",
   "execution_count": 2,
   "id": "4128dd76-d3ea-4799-ad3b-570434740f6e",
   "metadata": {},
   "outputs": [
    {
     "name": "stdout",
     "output_type": "stream",
     "text": [
      "{1, 2, 3, 4, 5}\n"
     ]
    }
   ],
   "source": [
    "s={1,2,3,4,5}\n",
    "print(s)"
   ]
  },
  {
   "cell_type": "markdown",
   "id": "16048def-2b68-4c07-96b6-df258270fc7e",
   "metadata": {},
   "source": [
    "Note: sets do not have index as it is unordered"
   ]
  },
  {
   "cell_type": "markdown",
   "id": "4541b05b-cca3-4ac2-bbac-90eaff38007d",
   "metadata": {},
   "source": [
    "**Set methods**"
   ]
  },
  {
   "cell_type": "code",
   "execution_count": 3,
   "id": "1c9df661-fc27-40bf-83f1-eb17ac1e797f",
   "metadata": {},
   "outputs": [
    {
     "name": "stdout",
     "output_type": "stream",
     "text": [
      "{1, 2, 3, 4, 5, 6}\n",
      "{1, 2, 3, 4, 5}\n",
      "{1, 2, 3, 4, 5}\n",
      "{2, 3, 4, 5}\n",
      "set()\n"
     ]
    }
   ],
   "source": [
    "s={1,2,3,4,5}\n",
    "# add :adds an element in the set\n",
    "s.add(6)\n",
    "print(s)\n",
    "\n",
    "# remove: remove an element and if element not present then error\n",
    "s.remove(6)\n",
    "print(s)\n",
    "\n",
    "# discard: removes an element and no error if element not present\n",
    "s.discard(8)\n",
    "print(s)\n",
    "\n",
    "# pop:randomly deletes an element\n",
    "s.pop()\n",
    "print(s)\n",
    "\n",
    "# clear: removes all element\n",
    "s.clear()\n",
    "print(s)"
   ]
  },
  {
   "cell_type": "markdown",
   "id": "580e3daf-04eb-437a-9e42-3c1c7c2a464c",
   "metadata": {},
   "source": [
    "**Union intersection and difference method in sets**"
   ]
  },
  {
   "cell_type": "code",
   "execution_count": 4,
   "id": "ed26d40b-1dbe-4a59-bb71-9bccdf8fa2f4",
   "metadata": {},
   "outputs": [
    {
     "name": "stdout",
     "output_type": "stream",
     "text": [
      "{1, 2, 3, 4, 5, 6, 7}\n",
      "{4}\n",
      "{1, 2, 3}\n",
      "{1, 2, 3, 4, 5, 6}\n",
      "{3, 4}\n",
      "{1, 2}\n",
      "{1, 2, 5, 6}\n"
     ]
    }
   ],
   "source": [
    "# union(|): combines set\n",
    "a={1,2,3,4}\n",
    "b={4,5,6,7}\n",
    "print(a.union(b))\n",
    "\n",
    "# intersection(&): common elements\n",
    "print(a.intersection(b))\n",
    "\n",
    "# difference(-):elements in a not present in b\n",
    "print(a.difference(b))\n",
    "\n",
    "\n",
    "# with symbols\n",
    "A = {1, 2, 3, 4}\n",
    "B = {3, 4, 5, 6}\n",
    "\n",
    "print(A | B)   # Union → {1, 2, 3, 4, 5, 6}\n",
    "print(A & B)   # Intersection → {3, 4}\n",
    "print(A - B)   # Difference → {1, 2}\n",
    "print(A ^ B)   # Symmetric difference → {1, 2, 5, 6}\n"
   ]
  },
  {
   "cell_type": "markdown",
   "id": "deeb043e-797f-4fd6-990b-28c6c00bf3f5",
   "metadata": {},
   "source": [
    "**Dictionary**"
   ]
  },
  {
   "cell_type": "code",
   "execution_count": 5,
   "id": "e9dcbde0-d96f-451d-a50f-a1cf2c9947c3",
   "metadata": {},
   "outputs": [],
   "source": [
    "# dictionary is unordered collection of key value pairs\n",
    "# each key must be unique and immutable\n"
   ]
  },
  {
   "cell_type": "markdown",
   "id": "3074a42e-40d0-4de7-a09f-f32ce38ad550",
   "metadata": {},
   "source": [
    "**creating a Dictionary**"
   ]
  },
  {
   "cell_type": "code",
   "execution_count": 6,
   "id": "e1e5296a-ed8d-4d3e-a40f-c4547507428b",
   "metadata": {},
   "outputs": [
    {
     "name": "stdout",
     "output_type": "stream",
     "text": [
      "{'name': 'Himanshu', 'age': 20, 'city': 'Delhi'}\n"
     ]
    }
   ],
   "source": [
    "my_dict = {\"name\": \"Himanshu\", \"age\": 20, \"city\": \"Delhi\"}\n",
    "print(my_dict)"
   ]
  },
  {
   "cell_type": "markdown",
   "id": "4a26187b-dd24-4f72-bf07-457e6488d45b",
   "metadata": {},
   "source": [
    "**Accesing elements**"
   ]
  },
  {
   "cell_type": "code",
   "execution_count": 7,
   "id": "67715b68-5aa8-4706-9fa5-ce6cd0beb885",
   "metadata": {},
   "outputs": [
    {
     "name": "stdout",
     "output_type": "stream",
     "text": [
      "Himanshu\n",
      "20\n"
     ]
    }
   ],
   "source": [
    "print(my_dict[\"name\"])\n",
    "print(my_dict.get(\"age\"))"
   ]
  },
  {
   "cell_type": "markdown",
   "id": "614802bd-82a2-4944-a0aa-1637bdab66b8",
   "metadata": {},
   "source": [
    "**Dictionary methods**"
   ]
  },
  {
   "cell_type": "code",
   "execution_count": 8,
   "id": "bfe78ae3-b347-4931-800e-4b601b80ced2",
   "metadata": {},
   "outputs": [
    {
     "name": "stdout",
     "output_type": "stream",
     "text": [
      "dict_keys(['name', 'age', 'city'])\n",
      "dict_values(['Himanshu', 20, 'Delhi'])\n",
      "dict_items([('name', 'Himanshu'), ('age', 20), ('city', 'Delhi')])\n",
      "Himanshu\n",
      "{'name': 'himanshu morale', 'age': 20, 'city': 'Delhi'}\n",
      "{'name': 'himanshu morale', 'age': 20}\n",
      "{}\n"
     ]
    }
   ],
   "source": [
    "# keys: return all keys\n",
    "print(my_dict.keys())\n",
    "\n",
    "# values: returns all the values\n",
    "print(my_dict.values())\n",
    "\n",
    "# items: returns key value pairs\n",
    "print(my_dict.items())\n",
    "\n",
    "# get: returns value of specified key\n",
    "print(my_dict.get(\"name\"))\n",
    "\n",
    "# update: update entry\n",
    "my_dict.update({\"name\":\"himanshu morale\"})\n",
    "print(my_dict)\n",
    "\n",
    "# pop: removes element specified key\n",
    "my_dict.pop(\"city\")\n",
    "print(my_dict)\n",
    "\n",
    "# clear: removes all items\n",
    "my_dict.clear()\n",
    "print(my_dict)"
   ]
  }
 ],
 "metadata": {
  "kernelspec": {
   "display_name": "Python 3 (ipykernel)",
   "language": "python",
   "name": "python3"
  },
  "language_info": {
   "codemirror_mode": {
    "name": "ipython",
    "version": 3
   },
   "file_extension": ".py",
   "mimetype": "text/x-python",
   "name": "python",
   "nbconvert_exporter": "python",
   "pygments_lexer": "ipython3",
   "version": "3.13.7"
  }
 },
 "nbformat": 4,
 "nbformat_minor": 5
}
