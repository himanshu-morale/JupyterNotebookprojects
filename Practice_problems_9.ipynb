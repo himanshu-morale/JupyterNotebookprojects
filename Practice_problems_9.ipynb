{
 "cells": [
  {
   "cell_type": "markdown",
   "id": "e94b6907-faf7-4981-8276-bdec715800b1",
   "metadata": {},
   "source": [
    "**Topic: Dictionary**"
   ]
  },
  {
   "cell_type": "markdown",
   "id": "b03ae28a-88cb-42f7-9388-8069ace1dd3f",
   "metadata": {},
   "source": [
    "Level: Basic"
   ]
  },
  {
   "cell_type": "code",
   "execution_count": 1,
   "id": "48f3e02f-4e9a-4f5f-9cd9-ddc6544874b4",
   "metadata": {},
   "outputs": [
    {
     "name": "stdout",
     "output_type": "stream",
     "text": [
      "{'name': 'Himanshu', 'roll': 42, 'branch': 'IT', 'sec': 'A'}\n"
     ]
    }
   ],
   "source": [
    "# Problem 1: Create a dictionary of student details and print it.\n",
    "student={\"name\":\"Himanshu\",\"roll\":42,\"branch\":\"IT\",\"sec\":\"A\"}\n",
    "print(student)"
   ]
  },
  {
   "cell_type": "code",
   "execution_count": 2,
   "id": "9fefdd05-5fac-4c2b-806b-5968b0f50712",
   "metadata": {},
   "outputs": [
    {
     "name": "stdout",
     "output_type": "stream",
     "text": [
      "IT\n"
     ]
    }
   ],
   "source": [
    "# Problem 2: Print the value of \"branch\".\n",
    "print(student.get(\"branch\"))"
   ]
  },
  {
   "cell_type": "code",
   "execution_count": 3,
   "id": "a46eaad9-d276-4abf-be98-20b6ce151dd4",
   "metadata": {},
   "outputs": [
    {
     "name": "stdout",
     "output_type": "stream",
     "text": [
      "{'name': 'Himanshu', 'roll': 42, 'branch': 'IT', 'sec': 'A', 'grade': 'A'}\n"
     ]
    }
   ],
   "source": [
    "# Problem 3: Add a new key \"grade\" with value \"A\".\n",
    "student[\"grade\"]=\"A\"\n",
    "print(student)"
   ]
  },
  {
   "cell_type": "code",
   "execution_count": 5,
   "id": "bb06a114-952b-46cf-8973-cf6578f7323e",
   "metadata": {},
   "outputs": [
    {
     "name": "stdout",
     "output_type": "stream",
     "text": [
      "{'name': 'Himanshu', 'roll': 42, 'branch': 'IT', 'sec': 'B', 'grade': 'A'}\n"
     ]
    }
   ],
   "source": [
    "# Problem 4: Change \"sec\" to \"B\".\n",
    "student.update({\"sec\":\"B\"})\n",
    "print(student)"
   ]
  },
  {
   "cell_type": "code",
   "execution_count": 6,
   "id": "6c2810c0-3f15-462d-a9bb-99312c097269",
   "metadata": {},
   "outputs": [
    {
     "name": "stdout",
     "output_type": "stream",
     "text": [
      "{'name': 'Himanshu', 'roll': 42, 'branch': 'IT', 'sec': 'B'}\n"
     ]
    }
   ],
   "source": [
    "# Problem 5: Delete \"grade\" from the dictionary.\n",
    "del student[\"grade\"]\n",
    "print(student)"
   ]
  },
  {
   "cell_type": "markdown",
   "id": "502838ad-3e5b-495c-a27e-8321f36ada91",
   "metadata": {},
   "source": [
    "<br><br><br>Level: Intemediate"
   ]
  },
  {
   "cell_type": "code",
   "execution_count": 9,
   "id": "b9bb78de-8e06-4d99-a218-41c81162f882",
   "metadata": {},
   "outputs": [
    {
     "name": "stdout",
     "output_type": "stream",
     "text": [
      "name : Himanshu\n",
      "roll : 42\n",
      "branch : IT\n",
      "sec : B\n"
     ]
    }
   ],
   "source": [
    "# Problem: Print all keys and values.\n",
    "for key,value in student.items():\n",
    "    print(key,\":\",value)"
   ]
  },
  {
   "cell_type": "code",
   "execution_count": 12,
   "id": "6b3ac20e-845b-4285-9a39-5b36942cec1d",
   "metadata": {},
   "outputs": [
    {
     "name": "stdout",
     "output_type": "stream",
     "text": [
      "name is present\n"
     ]
    }
   ],
   "source": [
    "# Problem: Check if \"name\" is present in the dictionary.\n",
    "if \"name\" in student.keys():\n",
    "    print(\"name is present\")\n",
    "else:\n",
    "    print(\"name is not present\")"
   ]
  },
  {
   "cell_type": "code",
   "execution_count": 13,
   "id": "b67dfa5e-8517-40ef-826f-93fbc876fc32",
   "metadata": {},
   "outputs": [
    {
     "name": "stdout",
     "output_type": "stream",
     "text": [
      "{1: 1, 2: 2, 3: 1, 4: 3, 5: 1}\n"
     ]
    }
   ],
   "source": [
    "# Problem: Convert a list into a frequency dictionary.\n",
    "nums = [1, 2, 2, 3, 4, 4, 4, 5]\n",
    "freq = {}\n",
    "for n in nums:\n",
    "    freq[n] = freq.get(n, 0) + 1\n",
    "print(freq)"
   ]
  },
  {
   "cell_type": "code",
   "execution_count": 14,
   "id": "e72bbf7b-80ca-47d3-8b8c-33d17b4330e5",
   "metadata": {},
   "outputs": [
    {
     "name": "stdout",
     "output_type": "stream",
     "text": [
      "{'a': 1, 'b': 3, 'c': 4}\n"
     ]
    }
   ],
   "source": [
    "# Problem: Combine two dictionaries into one.\n",
    "dict1 = {\"a\": 1, \"b\": 2}\n",
    "dict2 = {\"b\": 3, \"c\": 4}\n",
    "merged = {**dict1, **dict2}\n",
    "print(merged)"
   ]
  },
  {
   "cell_type": "code",
   "execution_count": 15,
   "id": "019db29b-8dea-4fed-a60a-c490c0318ac6",
   "metadata": {},
   "outputs": [
    {
     "name": "stdout",
     "output_type": "stream",
     "text": [
      "Bob\n"
     ]
    }
   ],
   "source": [
    "# Problem: Find the key with the maximum value\n",
    "scores = {\"Alice\": 85, \"Bob\": 92, \"Charlie\": 78}\n",
    "max_key = max(scores, key=scores.get)\n",
    "print(max_key)"
   ]
  }
 ],
 "metadata": {
  "kernelspec": {
   "display_name": "Python 3 (ipykernel)",
   "language": "python",
   "name": "python3"
  },
  "language_info": {
   "codemirror_mode": {
    "name": "ipython",
    "version": 3
   },
   "file_extension": ".py",
   "mimetype": "text/x-python",
   "name": "python",
   "nbconvert_exporter": "python",
   "pygments_lexer": "ipython3",
   "version": "3.13.7"
  }
 },
 "nbformat": 4,
 "nbformat_minor": 5
}
