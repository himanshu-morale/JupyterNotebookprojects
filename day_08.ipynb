{
 "cells": [
  {
   "cell_type": "markdown",
   "id": "e8df721c-98b8-426b-aff9-64f21a282d97",
   "metadata": {},
   "source": [
    "**Tuple**"
   ]
  },
  {
   "cell_type": "code",
   "execution_count": 2,
   "id": "1c3e1d3f-ab80-4846-a317-692286b7c8b5",
   "metadata": {},
   "outputs": [],
   "source": [
    "# a tuple is python ordered,immutable colelction of element\n",
    "# It is similar to a list, but cannot be modified (no addition, removal, or update of elements once created)."
   ]
  },
  {
   "cell_type": "markdown",
   "id": "4e1097ff-7544-45ef-b3dd-1ae5d3472cae",
   "metadata": {},
   "source": [
    "**Creating a list**"
   ]
  },
  {
   "cell_type": "code",
   "execution_count": null,
   "id": "b7bb8fc9-ddeb-40a0-826e-6a4584ce31a4",
   "metadata": {},
   "outputs": [],
   "source": [
    "# empty tuple\n",
    "tup=()\n",
    "\n",
    "# tuple with elements\n",
    "tup=(1,2,3,4,5)\n",
    "\n",
    "# tuple with different data types\n",
    "tup=(1,3.14,\"Hello\",True)\n",
    "\n",
    "# nested tuple\n",
    "tup=(1,(2,3),(4,5))"
   ]
  },
  {
   "cell_type": "markdown",
   "id": "c1d47bc9-a163-44c7-ab42-80a1c2caa587",
   "metadata": {},
   "source": [
    "**Accesing tuple elements**"
   ]
  },
  {
   "cell_type": "code",
   "execution_count": 7,
   "id": "6372356b-5a37-4f02-be15-a51490a7e06e",
   "metadata": {},
   "outputs": [
    {
     "name": "stdout",
     "output_type": "stream",
     "text": [
      "1\n",
      "5\n",
      "(1, 3, 5)\n"
     ]
    }
   ],
   "source": [
    "tup=(1,2,3,4,5)\n",
    "print(tup[0])\n",
    "# negative indexing\n",
    "print(tup[-1])\n",
    "# slicing\n",
    "print(tup[::2])"
   ]
  },
  {
   "cell_type": "markdown",
   "id": "4b06142f-7999-4d14-b216-5f03f0b09d82",
   "metadata": {},
   "source": [
    "**Tuple immutability**"
   ]
  },
  {
   "cell_type": "code",
   "execution_count": 8,
   "id": "bd62ffc1-77b7-48f0-bbfd-2b4dd7b4fd6e",
   "metadata": {},
   "outputs": [
    {
     "ename": "TypeError",
     "evalue": "'tuple' object does not support item assignment",
     "output_type": "error",
     "traceback": [
      "\u001b[31m---------------------------------------------------------------------------\u001b[39m",
      "\u001b[31mTypeError\u001b[39m                                 Traceback (most recent call last)",
      "\u001b[36mCell\u001b[39m\u001b[36m \u001b[39m\u001b[32mIn[8]\u001b[39m\u001b[32m, line 4\u001b[39m\n\u001b[32m      1\u001b[39m \u001b[38;5;66;03m# you cannot change the element once tuple is created\u001b[39;00m\n\u001b[32m      3\u001b[39m tup=(\u001b[32m1\u001b[39m,\u001b[32m2\u001b[39m,\u001b[32m4\u001b[39m,\u001b[32m5\u001b[39m)\n\u001b[32m----> \u001b[39m\u001b[32m4\u001b[39m \u001b[43mtup\u001b[49m\u001b[43m[\u001b[49m\u001b[32;43m2\u001b[39;49m\u001b[43m]\u001b[49m=\u001b[32m1\u001b[39m\n",
      "\u001b[31mTypeError\u001b[39m: 'tuple' object does not support item assignment"
     ]
    }
   ],
   "source": [
    "# you cannot change the element once tuple is created\n",
    "\n",
    "tup=(1,2,4,5)\n",
    "tup[2]=1"
   ]
  },
  {
   "cell_type": "code",
   "execution_count": 9,
   "id": "ee5c5b11-db3c-4779-b722-8e3e53e2df82",
   "metadata": {},
   "outputs": [
    {
     "name": "stdout",
     "output_type": "stream",
     "text": [
      "(1, [99, 3], 4)\n"
     ]
    }
   ],
   "source": [
    "# if a tuple contains a mutable object (like a list), that list can be changed.\n",
    "tup= (1, [2, 3], 4)\n",
    "tup[1][0] = 99\n",
    "print(tup)   # (1, [99, 3], 4)\n"
   ]
  },
  {
   "cell_type": "markdown",
   "id": "5e31e639-b78d-4b08-a5fd-7f5de356ae44",
   "metadata": {},
   "source": [
    "**Tuple operation**"
   ]
  },
  {
   "cell_type": "code",
   "execution_count": 4,
   "id": "6818710a-e086-48df-b11d-a51db33c1237",
   "metadata": {},
   "outputs": [
    {
     "name": "stdout",
     "output_type": "stream",
     "text": [
      "(1, 2, 3, 4, 5, 6)\n",
      "(1, 2, 3, 1, 2, 3, 1, 2, 3)\n",
      "True\n"
     ]
    }
   ],
   "source": [
    "# concatination\n",
    "tup1=(1,2,3)\n",
    "tup2=(4,5,6)\n",
    "tup3=tup1+tup2\n",
    "print(tup3)\n",
    "\n",
    "# Repitition\n",
    "print(tup1*3)\n",
    "\n",
    "# Membership\n",
    "print(3 in tup1)"
   ]
  },
  {
   "cell_type": "markdown",
   "id": "4be061f9-8a25-4693-b72c-da0597ed19c0",
   "metadata": {},
   "source": [
    "**Tuple methods**"
   ]
  },
  {
   "cell_type": "code",
   "execution_count": 6,
   "id": "8cb0d4a0-e1b4-4490-bb6e-925254177c52",
   "metadata": {},
   "outputs": [
    {
     "name": "stdout",
     "output_type": "stream",
     "text": [
      "6\n",
      "3\n",
      "5\n"
     ]
    }
   ],
   "source": [
    "# len\n",
    "print(len(tup3))\n",
    "# count\n",
    "tup=(1,2,1,3,1,4)\n",
    "print(tup.count(1))\n",
    "# index\n",
    "print(tup.index(4))"
   ]
  }
 ],
 "metadata": {
  "kernelspec": {
   "display_name": "Python 3 (ipykernel)",
   "language": "python",
   "name": "python3"
  },
  "language_info": {
   "codemirror_mode": {
    "name": "ipython",
    "version": 3
   },
   "file_extension": ".py",
   "mimetype": "text/x-python",
   "name": "python",
   "nbconvert_exporter": "python",
   "pygments_lexer": "ipython3",
   "version": "3.13.7"
  }
 },
 "nbformat": 4,
 "nbformat_minor": 5
}
