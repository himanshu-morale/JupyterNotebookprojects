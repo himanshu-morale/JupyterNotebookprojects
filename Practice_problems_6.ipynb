{
 "cells": [
  {
   "cell_type": "markdown",
   "id": "5126f27f-65ce-413c-8b1d-03e0eb00b8e2",
   "metadata": {},
   "source": [
    "**Topic:Lists**"
   ]
  },
  {
   "cell_type": "markdown",
   "id": "7c292238-acfb-4334-bb04-82ec8533588d",
   "metadata": {},
   "source": [
    "**Level:Basic**"
   ]
  },
  {
   "cell_type": "code",
   "execution_count": 1,
   "id": "5338b142-f7ef-441c-9364-c53f7e4ef7bd",
   "metadata": {},
   "outputs": [
    {
     "name": "stdout",
     "output_type": "stream",
     "text": [
      "[1, 2, 3, 4, 5]\n"
     ]
    }
   ],
   "source": [
    "# 1️⃣Create a list of 5 numbers and print it.\n",
    "mylist=[1,2,3,4,5]\n",
    "print(mylist)"
   ]
  },
  {
   "cell_type": "code",
   "execution_count": 2,
   "id": "9d1c4011-3b76-4e3f-ae5b-f1d059aa24de",
   "metadata": {},
   "outputs": [
    {
     "name": "stdout",
     "output_type": "stream",
     "text": [
      "First Element:  1\n",
      "Middle Element:  3\n",
      "LastElement:  5\n"
     ]
    }
   ],
   "source": [
    "# 2️⃣ Access and print the first, middle, and last elements of the list.\n",
    "print(\"First Element: \",mylist[0])\n",
    "print(\"Middle Element: \",mylist[2])\n",
    "print(\"LastElement: \",mylist[4])"
   ]
  },
  {
   "cell_type": "code",
   "execution_count": 3,
   "id": "122c9a86-660e-4c04-9267-822af77721e1",
   "metadata": {},
   "outputs": [
    {
     "name": "stdout",
     "output_type": "stream",
     "text": [
      "[1, 'python', 3, 4, 5]\n"
     ]
    }
   ],
   "source": [
    "# 3️⃣ Change the second element of the list to \"Python\".\n",
    "mylist[1]=\"python\"\n",
    "print(mylist)"
   ]
  },
  {
   "cell_type": "code",
   "execution_count": 4,
   "id": "7eea4662-7471-4539-8fe5-6cd66924e198",
   "metadata": {},
   "outputs": [
    {
     "name": "stdout",
     "output_type": "stream",
     "text": [
      "[1, 'python', 3, 4, 5, 'AI']\n"
     ]
    }
   ],
   "source": [
    "# 4️⃣ Add \"AI\" to the list using .append().\n",
    "mylist.append(\"AI\")\n",
    "print(mylist)"
   ]
  },
  {
   "cell_type": "code",
   "execution_count": 5,
   "id": "678bf2ff-aa00-4105-abda-b371960b75b9",
   "metadata": {},
   "outputs": [
    {
     "name": "stdout",
     "output_type": "stream",
     "text": [
      "[1, 'python', 'ML', 3, 4, 5, 'AI']\n"
     ]
    }
   ],
   "source": [
    "# 5️⃣ Insert \"ML\" at index 2.\n",
    "mylist.insert(2,\"ML\")\n",
    "print(mylist)"
   ]
  },
  {
   "cell_type": "code",
   "execution_count": 6,
   "id": "ec2a20a9-75c8-49ce-b436-da27a8e4ab3a",
   "metadata": {},
   "outputs": [
    {
     "name": "stdout",
     "output_type": "stream",
     "text": [
      "[1, 'python', 'ML', 3, 4, 5]\n"
     ]
    }
   ],
   "source": [
    "# 6️⃣ Remove the last element using .pop().\n",
    "mylist.pop()\n",
    "print(mylist)"
   ]
  },
  {
   "cell_type": "code",
   "execution_count": 7,
   "id": "52d4b7b0-ca19-497b-8f57-2126a79dc690",
   "metadata": {},
   "outputs": [
    {
     "name": "stdout",
     "output_type": "stream",
     "text": [
      "[1, 'ML', 3, 4, 5]\n"
     ]
    }
   ],
   "source": [
    "# 7️⃣ Remove \"Python\" from the list using .remove().\n",
    "mylist.remove(\"python\")\n",
    "print(mylist)"
   ]
  },
  {
   "cell_type": "code",
   "execution_count": 8,
   "id": "0b6c65cb-f8e0-4bc8-b894-1e35d8b642a7",
   "metadata": {},
   "outputs": [
    {
     "name": "stdout",
     "output_type": "stream",
     "text": [
      "15\n",
      "3.0\n"
     ]
    }
   ],
   "source": [
    "# 8️⃣ Create a list of numbers and print their sum and average.\n",
    "mylist=[1,2,3,4,5]\n",
    "print(sum(mylist))\n",
    "print(sum(mylist)/len(mylist))"
   ]
  },
  {
   "cell_type": "code",
   "execution_count": 9,
   "id": "384d13d9-b6f7-413e-a904-25944a899d8c",
   "metadata": {},
   "outputs": [
    {
     "name": "stdout",
     "output_type": "stream",
     "text": [
      "5\n",
      "1\n"
     ]
    }
   ],
   "source": [
    "# 9️⃣ Find the maximum and minimum elements from a list.\n",
    "print(max(mylist))\n",
    "print(min(mylist))"
   ]
  },
  {
   "cell_type": "code",
   "execution_count": 10,
   "id": "ce94d234-821e-43c4-a21d-176109b0e6fb",
   "metadata": {},
   "outputs": [
    {
     "name": "stdout",
     "output_type": "stream",
     "text": [
      "apple is present\n"
     ]
    }
   ],
   "source": [
    "# 🔟 Check if \"apple\" is present in the list [\"banana\", \"apple\", \"cherry\"].\n",
    "fruits=[\"banana\", \"apple\", \"cherry\"]\n",
    "if (\"apple\" in fruits):\n",
    "    print(\"apple is present\")\n",
    "else:\n",
    "    print(\"apple is not present\")"
   ]
  }
 ],
 "metadata": {
  "kernelspec": {
   "display_name": "Python 3 (ipykernel)",
   "language": "python",
   "name": "python3"
  },
  "language_info": {
   "codemirror_mode": {
    "name": "ipython",
    "version": 3
   },
   "file_extension": ".py",
   "mimetype": "text/x-python",
   "name": "python",
   "nbconvert_exporter": "python",
   "pygments_lexer": "ipython3",
   "version": "3.13.7"
  }
 },
 "nbformat": 4,
 "nbformat_minor": 5
}
