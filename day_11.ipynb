{
 "cells": [
  {
   "cell_type": "markdown",
   "id": "da75c08d-5e14-4301-ba6c-0d95f6f0f15d",
   "metadata": {},
   "source": [
    "**Object Oriented Programming**"
   ]
  },
  {
   "cell_type": "code",
   "execution_count": null,
   "id": "09ad255e-aa7b-44a0-b133-45215f986faa",
   "metadata": {},
   "outputs": [],
   "source": [
    "# oops is concept of representing real life entities in programming language using classes and objects based on their behavior and properties\n",
    "# it helps make code modular,reusable and easier to maintain"
   ]
  },
  {
   "cell_type": "markdown",
   "id": "21af464b-5d4d-433d-b24b-4d43fb2d2bc7",
   "metadata": {},
   "source": [
    "Class and object:"
   ]
  },
  {
   "cell_type": "code",
   "execution_count": null,
   "id": "49f82f94-2669-4b50-a8cd-aa31b20a871d",
   "metadata": {},
   "outputs": [],
   "source": [
    "# Class: blueprint to create an object. Classes defines a set of attributes and methods that the created objects can have\n",
    "# object: instance of class. it represents a specific implementation of a class and holds its own data"
   ]
  },
  {
   "cell_type": "markdown",
   "id": "9ddc7d76-0620-42e6-9f2c-ae69bf0a6f3f",
   "metadata": {},
   "source": [
    "Creating a class"
   ]
  },
  {
   "cell_type": "code",
   "execution_count": 2,
   "id": "84963398-7ab9-4d02-b610-e9a0ffff076c",
   "metadata": {},
   "outputs": [],
   "source": [
    "class Car:\n",
    "    wheels=4\n",
    "    def __init__(self,brand,color):\n",
    "        self.brand=brand\n",
    "        self.color=color"
   ]
  },
  {
   "cell_type": "code",
   "execution_count": null,
   "id": "c7bf25cb-b2c1-45ec-8088-b3214786259e",
   "metadata": {},
   "outputs": [],
   "source": [
    "# CLass car: defines a class named car\n",
    "# wheels: a class attribute shared by all instances of class\n",
    "# __init__ method: initializes brand and color attribute when new object is created\n",
    "# self: it is reference to current instance of a class"
   ]
  },
  {
   "cell_type": "markdown",
   "id": "78d090c9-fed7-42ce-b399-d6dff6ebc082",
   "metadata": {},
   "source": [
    "Creating an object"
   ]
  },
  {
   "cell_type": "code",
   "execution_count": 5,
   "id": "da7c5d9a-2daa-44fe-9cc4-e58f0274e193",
   "metadata": {},
   "outputs": [
    {
     "name": "stdout",
     "output_type": "stream",
     "text": [
      "BMW\n",
      "Yellow\n",
      "4\n"
     ]
    }
   ],
   "source": [
    "car1=Car(\"BMW\",\"Yellow\")\n",
    "print(car1.brand)\n",
    "print(car1.color)\n",
    "print(car1.wheels)"
   ]
  },
  {
   "cell_type": "markdown",
   "id": "c12b8989-3708-4705-93cf-2d350d7b54ee",
   "metadata": {},
   "source": [
    "Class and Instance Variables"
   ]
  },
  {
   "cell_type": "code",
   "execution_count": null,
   "id": "99a8712b-54b7-401d-9d3b-59ca2c543323",
   "metadata": {},
   "outputs": [],
   "source": [
    "# class variables:\n",
    "#     These are variable that are shared across all instances of class\n",
    "#     It is defined at the class level, outside any methods\n",
    "#     All objects of the class share the same value for a class variable unless explicitly overridden in an object.\n",
    "\n",
    "\n",
    "# Instance Variable:\n",
    "#     Variables that are unique to each instance (object) of a class\n",
    "#     These are defined within the __init__ method or other instance methods.\n",
    "#     Each object maintains its own copy of instance variables, independent of other objects."
   ]
  },
  {
   "cell_type": "code",
   "execution_count": 6,
   "id": "f8a1a41a-c5ea-4938-97ea-9a630ee0b300",
   "metadata": {},
   "outputs": [
    {
     "name": "stdout",
     "output_type": "stream",
     "text": [
      "BMW\n",
      "Yellow\n",
      "4\n",
      "4\n"
     ]
    }
   ],
   "source": [
    "class Car:\n",
    "    wheels=4    #Class variable\n",
    "    def __init__(self,brand,color):\n",
    "        self.brand=brand               #Instance variable\n",
    "        self.color=color\n",
    "\n",
    "        \n",
    "car1=Car(\"BMW\",\"Yellow\")\n",
    "print(car1.brand)                      # instance variable\n",
    "print(car1.color)                      # instance variable\n",
    "car1.brand=\"Mercedes\"                  # updating instance variable\n",
    "print(car1.brand)                  \n",
    "print(car1.wheels)                     # Class variable\n",
    "\n",
    "\n",
    "car2=Car(\"Limousine\",\"White\")\n",
    "car.wheels=12                         # updating class variable\n",
    "print(car2.wheels)"
   ]
  },
  {
   "cell_type": "markdown",
   "id": "8836a26e-7991-40b7-b7be-df42f86b60f9",
   "metadata": {},
   "source": [
    "Inheritance: "
   ]
  },
  {
   "cell_type": "code",
   "execution_count": null,
   "id": "5fdbf506-cf44-4552-b12e-430f7f964a2b",
   "metadata": {},
   "outputs": [],
   "source": [
    "# Inheritance allows a class (child class) to acquire properties and methods of another class (parent class).\n",
    "# types:\n",
    "    # 1. Single \n",
    "    # 2. Multilevel\n",
    "    # 3. Multiple\n",
    "    # 4. Hierarchial "
   ]
  },
  {
   "cell_type": "code",
   "execution_count": 11,
   "id": "6cbaf1b6-e1ff-4125-9e55-b3e3cd6a2e94",
   "metadata": {},
   "outputs": [
    {
     "name": "stdout",
     "output_type": "stream",
     "text": [
      "This is a parent class\n",
      "This is a child class\n"
     ]
    }
   ],
   "source": [
    "# Single level\n",
    "class Parent:\n",
    "    def show_parent(self):\n",
    "        print(\"This is a parent class\")\n",
    "class Child(Parent):\n",
    "    def show_child(self):\n",
    "        print(\"This is a child class\")\n",
    "child1= Child()\n",
    "child1.show_parent()\n",
    "child1.show_child()"
   ]
  },
  {
   "cell_type": "code",
   "execution_count": null,
   "id": "eaf4237d-b76f-4f1d-997d-8efae05a82a1",
   "metadata": {},
   "outputs": [],
   "source": [
    "# Multilevel \n",
    "class Grandparent:\n",
    "    def show_grandparent(self):\n",
    "        print(\"This is a grandparent class\")\n",
    "class Parent(grandparent):\n",
    "    def show_parent(self):\n",
    "        print(\"This is a parent class\")\n",
    "class Child(Parent,grandparent):\n",
    "    def show_child(self):\n",
    "        print(\"This is a child class\")"
   ]
  }
 ],
 "metadata": {
  "kernelspec": {
   "display_name": "Python 3 (ipykernel)",
   "language": "python",
   "name": "python3"
  },
  "language_info": {
   "codemirror_mode": {
    "name": "ipython",
    "version": 3
   },
   "file_extension": ".py",
   "mimetype": "text/x-python",
   "name": "python",
   "nbconvert_exporter": "python",
   "pygments_lexer": "ipython3",
   "version": "3.13.7"
  }
 },
 "nbformat": 4,
 "nbformat_minor": 5
}
