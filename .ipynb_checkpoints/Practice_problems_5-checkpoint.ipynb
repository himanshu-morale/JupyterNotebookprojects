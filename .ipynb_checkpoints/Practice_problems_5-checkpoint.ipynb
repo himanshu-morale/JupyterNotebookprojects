{
 "cells": [
  {
   "cell_type": "markdown",
   "id": "a260ac35-81d8-4166-b3f7-05e7aa0cf3ca",
   "metadata": {},
   "source": [
    "**Topic: String**"
   ]
  },
  {
   "cell_type": "markdown",
   "id": "2945cd5e-2640-480e-bb87-717576d313b4",
   "metadata": {},
   "source": [
    "**LEVEL: Basic**"
   ]
  },
  {
   "cell_type": "code",
   "execution_count": 1,
   "id": "4a8f4424-91a3-4bc8-9e63-d2c6dc9afee8",
   "metadata": {},
   "outputs": [
    {
     "name": "stdin",
     "output_type": "stream",
     "text": [
      "Enter a string: hello\n"
     ]
    },
    {
     "name": "stdout",
     "output_type": "stream",
     "text": [
      "5\n"
     ]
    }
   ],
   "source": [
    "# Write a program to input a string and print its length.\n",
    "string=input(\"Enter a string:\")\n",
    "print(len(string))"
   ]
  },
  {
   "cell_type": "code",
   "execution_count": 2,
   "id": "bad5e51f-dab5-4248-9051-f6ba15a9288d",
   "metadata": {},
   "outputs": [
    {
     "name": "stdin",
     "output_type": "stream",
     "text": [
      "Enter a string: hello\n"
     ]
    },
    {
     "name": "stdout",
     "output_type": "stream",
     "text": [
      "First character: h\n",
      "Last character: o\n"
     ]
    }
   ],
   "source": [
    "# Input a string and print its first and last character.\n",
    "string=input(\"Enter a string:\")\n",
    "print(\"First character:\",string[0])\n",
    "print(\"Last character:\",string[-1])"
   ]
  },
  {
   "cell_type": "code",
   "execution_count": 8,
   "id": "b8152837-228a-4d0d-9df1-5366d8bad34f",
   "metadata": {},
   "outputs": [
    {
     "name": "stdin",
     "output_type": "stream",
     "text": [
      "Enter a string: Himanshu\n",
      "Enter the character you want to check: e\n"
     ]
    },
    {
     "name": "stdout",
     "output_type": "stream",
     "text": [
      "e is not present in Himanshu\n"
     ]
    }
   ],
   "source": [
    "# Write a program to check whether a given character is present in a string or not.\n",
    "def char_check(string,char):\n",
    "    string=string.lower()\n",
    "    char=char.lower()\n",
    "    for i in string:\n",
    "        if i==char:\n",
    "            return True\n",
    "    return False\n",
    "string=input(\"Enter a string:\")\n",
    "char=input(\"Enter the character you want to check:\")\n",
    "if char_check(string,char):\n",
    "    print(f\"{char} is present in {string}\")\n",
    "else:\n",
    "    print(f\"{char} is not present in {string}\")\n"
   ]
  },
  {
   "cell_type": "code",
   "execution_count": 7,
   "id": "fbea7e3d-ec40-4951-8f97-81d8e965562e",
   "metadata": {},
   "outputs": [
    {
     "name": "stdin",
     "output_type": "stream",
     "text": [
      "Enter a string: hello himanshu\n"
     ]
    },
    {
     "name": "stdout",
     "output_type": "stream",
     "text": [
      "Uppercase: HELLO HIMANSHU\n",
      "Lowercase: hello himanshu\n",
      "Titlecase: Hello Himanshu\n"
     ]
    }
   ],
   "source": [
    "# Input a string and print it in uppercase, lowercase, and title case.\n",
    "string=input(\"Enter a string:\")\n",
    "print(\"Uppercase:\",string.upper())\n",
    "print(\"Lowercase:\",string.lower())\n",
    "print(\"Titlecase:\",string.title())"
   ]
  },
  {
   "cell_type": "code",
   "execution_count": 18,
   "id": "788df134-a992-42b7-94e3-73749daa62fa",
   "metadata": {},
   "outputs": [
    {
     "name": "stdin",
     "output_type": "stream",
     "text": [
      "Enter a string: Hello himanshu\n"
     ]
    },
    {
     "name": "stdout",
     "output_type": "stream",
     "text": [
      "vowel count: 5\n",
      "consonant count: 9\n"
     ]
    }
   ],
   "source": [
    "# Write a program to count the number of vowels and consonants in a string.\n",
    "string=input(\"Enter a string:\")\n",
    "string=string.lower()\n",
    "vowel=0\n",
    "consonant=0\n",
    "for i in string:\n",
    "    if (i==\"a\" or i==\"e\" or i==\"i\" or i==\"o\" or i==\"u\" ):\n",
    "        vowel+=1\n",
    "    elif(i==\" \"):\n",
    "        pass\n",
    "    else:\n",
    "        consonant+=1\n",
    "print(\"vowel count:\",vowel)\n",
    "print(\"consonant count:\",consonant)"
   ]
  },
  {
   "cell_type": "code",
   "execution_count": 22,
   "id": "a4da5d6d-6fa7-42fc-931e-586da9457895",
   "metadata": {},
   "outputs": [
    {
     "name": "stdin",
     "output_type": "stream",
     "text": [
      "Enter a string: hello\n"
     ]
    },
    {
     "name": "stdout",
     "output_type": "stream",
     "text": [
      "olleh\n"
     ]
    }
   ],
   "source": [
    "# Input a string and print it in reverse order.\n",
    "string=input(\"Enter aing string:\")\n",
    "print(string[::-1])"
   ]
  },
  {
   "cell_type": "code",
   "execution_count": 9,
   "id": "ccc2a9fd-ae32-45c4-a1eb-bd3b2407b341",
   "metadata": {},
   "outputs": [
    {
     "name": "stdin",
     "output_type": "stream",
     "text": [
      "Enter a string: Naman\n"
     ]
    },
    {
     "name": "stdout",
     "output_type": "stream",
     "text": [
      "Palindrome\n"
     ]
    }
   ],
   "source": [
    "# Write a program to check whether a string is palindrome (same forwards and backwards).\n",
    "string=input(\"Enter a string:\")\n",
    "string=string.lower()\n",
    "rev=string[::-1]\n",
    "if rev==string:\n",
    "    print(\"Palindrome\")\n",
    "else:\n",
    "    print(\"Not Palindrome\")"
   ]
  },
  {
   "cell_type": "code",
   "execution_count": 10,
   "id": "920be592-4e4a-4761-ac79-ce32fba121f8",
   "metadata": {},
   "outputs": [
    {
     "name": "stdin",
     "output_type": "stream",
     "text": [
      "Enter a string: Hello my name is himanshu\n"
     ]
    },
    {
     "name": "stdout",
     "output_type": "stream",
     "text": [
      "Number of words in \"Hello my name is himanshu:\" 5\n"
     ]
    }
   ],
   "source": [
    "# Input a string and print the number of words in it.\n",
    "string=input(\"Enter a string:\")\n",
    "words=string.split()\n",
    "print(f\"Number of words in \\\"{string}:\\\"\",len(words))"
   ]
  },
  {
   "cell_type": "code",
   "execution_count": 32,
   "id": "3b5dba31-7b8a-42c9-9483-6a793cdc1813",
   "metadata": {},
   "outputs": [
    {
     "name": "stdout",
     "output_type": "stream",
     "text": [
      "Hellomynameishimanshu\n"
     ]
    }
   ],
   "source": [
    "# Write a program to remove all spaces from a string.\n",
    "string=\"Hello my name is himanshu\"\n",
    "print(string.replace(\" \",\"\"))"
   ]
  },
  {
   "cell_type": "code",
   "execution_count": 34,
   "id": "9f0e4f96-1062-432d-bd24-13457f44602c",
   "metadata": {},
   "outputs": [
    {
     "name": "stdin",
     "output_type": "stream",
     "text": [
      "Enter a string: 12345\n"
     ]
    },
    {
     "name": "stdout",
     "output_type": "stream",
     "text": [
      "contains only digits\n"
     ]
    }
   ],
   "source": [
    "# Input a string and check if it contains only digits.\n",
    "string=input(\"Enter a string:\")\n",
    "if string.isdigit():\n",
    "    print(\"contains only digits\")\n",
    "else:\n",
    "    print(\"contains alphabets\")"
   ]
  },
  {
   "cell_type": "markdown",
   "id": "bfe4e3b0-45cf-4c13-b0b2-2237aa302d39",
   "metadata": {},
   "source": [
    "<br><br>**Level:Intermediate**"
   ]
  },
  {
   "cell_type": "code",
   "execution_count": 36,
   "id": "f42b19ba-c491-451c-a836-9e613d58e8d5",
   "metadata": {},
   "outputs": [
    {
     "name": "stdout",
     "output_type": "stream",
     "text": [
      "Hello Himanshu, how are you Himanshu\n"
     ]
    },
    {
     "data": {
      "text/plain": [
       "'Hello Sir, how are you Sir'"
      ]
     },
     "execution_count": 36,
     "metadata": {},
     "output_type": "execute_result"
    }
   ],
   "source": [
    "# Replace all occurrences of a word in a sentence with another word (use .replace()).\n",
    "str=\"Hello Himanshu, how are you Himanshu\"\n",
    "print(str)\n",
    "str.replace(\"Himanshu\",\"Sir\")"
   ]
  },
  {
   "cell_type": "code",
   "execution_count": 39,
   "id": "77227ce1-eb3c-47d1-8413-dcd6d493f1e1",
   "metadata": {},
   "outputs": [
    {
     "name": "stdin",
     "output_type": "stream",
     "text": [
      "Enter a string: i am himanshu i love java i love python\n",
      "Enter substring you want frequency of: love\n"
     ]
    },
    {
     "name": "stdout",
     "output_type": "stream",
     "text": [
      "2\n"
     ]
    }
   ],
   "source": [
    "# Count how many times a given substring appears in a string.\n",
    "string=input(\"Enter a string:\")\n",
    "substr=input(\"Enter substring you want frequency of:\")\n",
    "count=string.count(substr)\n",
    "print(count)\n",
    "    "
   ]
  },
  {
   "cell_type": "code",
   "execution_count": 41,
   "id": "8c29fd75-c2a6-449f-b0a2-0a91b134b65d",
   "metadata": {},
   "outputs": [
    {
     "name": "stderr",
     "output_type": "stream",
     "text": [
      "<>:3: SyntaxWarning: invalid escape sequence '\\,'\n",
      "<>:3: SyntaxWarning: invalid escape sequence '\\,'\n",
      "C:\\Users\\HIMANSHU\\AppData\\Local\\Temp\\ipykernel_29288\\2349103954.py:3: SyntaxWarning: invalid escape sequence '\\,'\n",
      "  punctuations = '''!()-[]{};:'\"\\,<>./?@#$%^&*_~'''\n"
     ]
    },
    {
     "name": "stdin",
     "output_type": "stream",
     "text": [
      "Enter a string:  Hello,how are you? himanshu\"\n"
     ]
    },
    {
     "name": "stdout",
     "output_type": "stream",
     "text": [
      "String without punctuation: Hellohow are you himanshu\n"
     ]
    }
   ],
   "source": [
    "# Write a program to remove punctuation marks from a string.\n",
    "string = input(\"Enter a string: \")\n",
    "punctuations = '''!()-[]{};:'\"\\,<>./?@#$%^&*_~'''\n",
    "\n",
    "for ch in punctuations:\n",
    "    string = string.replace(ch, \"\")\n",
    "\n",
    "print(\"String without punctuation:\", string)\n"
   ]
  },
  {
   "cell_type": "code",
   "execution_count": 42,
   "id": "12907d21-2741-4d79-a190-bad56e1569ac",
   "metadata": {},
   "outputs": [
    {
     "name": "stdin",
     "output_type": "stream",
     "text": [
      "Enter first string:  listen\n",
      "Enter second string:  silent\n"
     ]
    },
    {
     "name": "stdout",
     "output_type": "stream",
     "text": [
      "'listen' and 'silent' are anagrams\n"
     ]
    }
   ],
   "source": [
    "# Check whether two strings are anagrams (contain the same letters).\n",
    "def is_anagram(str1, str2):\n",
    "    str1 = str1.replace(\" \", \"\").lower()\n",
    "    str2 = str2.replace(\" \", \"\").lower()\n",
    "    return sorted(str1) == sorted(str2)\n",
    "string1 = input(\"Enter first string: \")\n",
    "string2 = input(\"Enter second string: \")\n",
    "if is_anagram(string1, string2):\n",
    "    print(f\"'{string1}' and '{string2}' are anagrams\")\n",
    "else:\n",
    "    print(f\"'{string1}' and '{string2}' are not anagrams\")"
   ]
  },
  {
   "cell_type": "code",
   "execution_count": 43,
   "id": "85661a88-5bb6-465d-b32c-e6b1b18e25d3",
   "metadata": {},
   "outputs": [
    {
     "name": "stdin",
     "output_type": "stream",
     "text": [
      "Enter a string game of thrones\n"
     ]
    },
    {
     "data": {
      "text/plain": [
       "'Game Of Thrones'"
      ]
     },
     "execution_count": 43,
     "metadata": {},
     "output_type": "execute_result"
    }
   ],
   "source": [
    "# Convert a string such that the first letter of every word becomes uppercase.\n",
    "string=input(\"Enter a string:\")\n",
    "string.title()"
   ]
  },
  {
   "cell_type": "code",
   "execution_count": 11,
   "id": "57018c83-74d0-44fc-84d4-9213fd00358d",
   "metadata": {},
   "outputs": [
    {
     "name": "stdin",
     "output_type": "stream",
     "text": [
      "Enter a string: Hello Himanshu\n"
     ]
    },
    {
     "name": "stdout",
     "output_type": "stream",
     "text": [
      "Upper count: 2\n",
      "lower count: 11\n"
     ]
    }
   ],
   "source": [
    "# Write a program to count the number of uppercase and lowercase letters.\n",
    "string=input(\"Enter a string:\")\n",
    "upper_count=0\n",
    "lower_count=0\n",
    "for i in string:\n",
    "    if i.isupper():\n",
    "        upper_count+=1\n",
    "    elif i.islower():\n",
    "        lower_count+=1\n",
    "print(\"Upper count:\",upper_count)\n",
    "print(\"lower count:\",lower_count)"
   ]
  },
  {
   "cell_type": "code",
   "execution_count": 13,
   "id": "77b315fc-78bb-4e9b-bb8b-6b2dba61d5c5",
   "metadata": {},
   "outputs": [
    {
     "name": "stdin",
     "output_type": "stream",
     "text": [
      "Enter a string: hello my name is Himanshu\n"
     ]
    },
    {
     "name": "stdout",
     "output_type": "stream",
     "text": [
      "Longest word is: Himanshu\n"
     ]
    }
   ],
   "source": [
    "# Find the Longest Word in a Given Sentence\n",
    "string=input(\"Enter a string:\")\n",
    "words=string.split()\n",
    "longest=words[0]\n",
    "for word in words:\n",
    "    if len(word)>len(longest):\n",
    "        longest=word\n",
    "print(\"Longest word is:\",longest)\n",
    "    "
   ]
  },
  {
   "cell_type": "code",
   "execution_count": 12,
   "id": "07ba930c-5651-4423-954b-bc94e9d1e07e",
   "metadata": {},
   "outputs": [
    {
     "name": "stdin",
     "output_type": "stream",
     "text": [
      "Enter a string: python\n"
     ]
    },
    {
     "name": "stdout",
     "output_type": "stream",
     "text": [
      "String starts with py and ends with on\n"
     ]
    }
   ],
   "source": [
    "# Check if a string starts with \"Py\" and ends with \"on\".\n",
    "string=input(\"Enter a string:\").lower()\n",
    "if string.startswith(\"py\") and string.endswith(\"on\"):\n",
    "    print(\"String starts with py and ends with on\")\n",
    "else:\n",
    "    print(\"String does not starts with py and ends with on\")\n"
   ]
  },
  {
   "cell_type": "markdown",
   "id": "e6b7007d-f865-4d10-b36b-c9666319dc21",
   "metadata": {},
   "source": [
    "<br><br>**LEVEL: Advanced**"
   ]
  },
  {
   "cell_type": "code",
   "execution_count": 15,
   "id": "fdfc1297-0b49-47fa-98c3-0ff1d65c77ba",
   "metadata": {},
   "outputs": [
    {
     "name": "stdin",
     "output_type": "stream",
     "text": [
      "Enter a string:  programming\n"
     ]
    },
    {
     "name": "stdout",
     "output_type": "stream",
     "text": [
      "progamin\n"
     ]
    }
   ],
   "source": [
    "# Remove Duplicate Characters from a String\n",
    "string=input(\"Enter a string: \").lower()\n",
    "result=\"\"\n",
    "for char in string:\n",
    "    if char not in result:\n",
    "        result+=char\n",
    "print(result)"
   ]
  },
  {
   "cell_type": "code",
   "execution_count": 17,
   "id": "dbe25af1-4531-4a25-885e-2f639f51461e",
   "metadata": {},
   "outputs": [
    {
     "name": "stdin",
     "output_type": "stream",
     "text": [
      "Enter a string:  hello himanshu. how are you?\n",
      "Enter a character:  h\n"
     ]
    },
    {
     "name": "stdout",
     "output_type": "stream",
     "text": [
      "'h' found at indices: [0, 6, 12, 16]\n"
     ]
    }
   ],
   "source": [
    "# Find All Positions (Indices) of a Particular Character\n",
    "string = input(\"Enter a string: \").lower()\n",
    "char = input(\"Enter a character: \").lower()\n",
    "positions = []\n",
    "for i in range(len(string)):\n",
    "    if string[i] == char:\n",
    "        positions.append(i)\n",
    "if positions:\n",
    "    print(f\"'{char}' found at indices:\", positions)\n",
    "else:\n",
    "    print(f\"'{char}' not found in '{string}'\")"
   ]
  },
  {
   "cell_type": "code",
   "execution_count": 19,
   "id": "10024cb5-02d1-4bf9-b65c-09f1aca6b6e6",
   "metadata": {},
   "outputs": [
    {
     "name": "stdin",
     "output_type": "stream",
     "text": [
      "Enter a string:  Himanshu2809@#$\"\n"
     ]
    },
    {
     "name": "stdout",
     "output_type": "stream",
     "text": [
      "Alphabets: 8\n",
      "Digits: 4\n",
      "Special characters: 4\n"
     ]
    }
   ],
   "source": [
    "# Count Alphabets, Digits, and Special Characters\n",
    "string = input(\"Enter a string: \").lower()\n",
    "alphabets=0\n",
    "digit=0\n",
    "special=0\n",
    "for char in string:\n",
    "    if char.isalpha():\n",
    "        alphabets+=1\n",
    "    elif char.isdigit():\n",
    "        digit+=1\n",
    "    else:\n",
    "        special+=1\n",
    "print(\"Alphabets:\", alphabets)\n",
    "print(\"Digits:\", digit)\n",
    "print(\"Special characters:\", special)"
   ]
  },
  {
   "cell_type": "code",
   "execution_count": 21,
   "id": "5d22cb4c-0375-489c-a75f-eb3458fb0922",
   "metadata": {},
   "outputs": [
    {
     "name": "stdin",
     "output_type": "stream",
     "text": [
      "Enter a string:  himanshu\n"
     ]
    },
    {
     "name": "stdout",
     "output_type": "stream",
     "text": [
      "ahhimnsu\n"
     ]
    }
   ],
   "source": [
    "# Sort the Characters of a String Alphabetically\n",
    "string = input(\"Enter a string: \").lower()\n",
    "sort_str=''.join(sorted(string))\n",
    "print(sort_str)"
   ]
  },
  {
   "cell_type": "code",
   "execution_count": null,
   "id": "1a048cca-f166-4898-b196-e0c5ad5c3ef6",
   "metadata": {},
   "outputs": [],
   "source": []
  }
 ],
 "metadata": {
  "kernelspec": {
   "display_name": "Python 3 (ipykernel)",
   "language": "python",
   "name": "python3"
  },
  "language_info": {
   "codemirror_mode": {
    "name": "ipython",
    "version": 3
   },
   "file_extension": ".py",
   "mimetype": "text/x-python",
   "name": "python",
   "nbconvert_exporter": "python",
   "pygments_lexer": "ipython3",
   "version": "3.13.7"
  }
 },
 "nbformat": 4,
 "nbformat_minor": 5
}
