{
 "cells": [
  {
   "cell_type": "markdown",
   "id": "bb7788be-6cf9-4731-8f9b-48cd25f306a9",
   "metadata": {},
   "source": [
    "**Topic: Sets**"
   ]
  },
  {
   "cell_type": "markdown",
   "id": "f32c3be1-a8d8-43de-897b-5dec46aa2a25",
   "metadata": {},
   "source": [
    "Level: Basic"
   ]
  },
  {
   "cell_type": "code",
   "execution_count": 2,
   "id": "37f3f589-5266-4709-8aba-7a4624fed0f9",
   "metadata": {},
   "outputs": [
    {
     "name": "stdout",
     "output_type": "stream",
     "text": [
      "{'banana', 'apple', 'mango'}\n"
     ]
    }
   ],
   "source": [
    "# Problem 1: Create a set of fruits and print it.\n",
    "fruits={\"apple\",\"mango\",\"banana\"}\n",
    "print(fruits)"
   ]
  },
  {
   "cell_type": "code",
   "execution_count": 3,
   "id": "a0924c70-45e2-4169-8bef-2016b8090e70",
   "metadata": {},
   "outputs": [
    {
     "name": "stdout",
     "output_type": "stream",
     "text": [
      "{'banana', 'apple', 'cherry', 'mango'}\n"
     ]
    }
   ],
   "source": [
    "# Problem 2: Add \"cherry\" to the existing set.\n",
    "fruits.add(\"cherry\")\n",
    "print(fruits)"
   ]
  },
  {
   "cell_type": "code",
   "execution_count": 5,
   "id": "c57f4169-a36d-4cc9-b32a-8ab84303e3ee",
   "metadata": {},
   "outputs": [
    {
     "name": "stdout",
     "output_type": "stream",
     "text": [
      "{'apple', 'cherry', 'mango'}\n"
     ]
    }
   ],
   "source": [
    "# Problem 3: Remove \"banana\" from the set.\n",
    "fruits.remove(\"banana\")\n",
    "print(fruits)"
   ]
  },
  {
   "cell_type": "code",
   "execution_count": 7,
   "id": "0c2f76a1-6522-41d2-a007-d6f839ccfb31",
   "metadata": {},
   "outputs": [
    {
     "name": "stdout",
     "output_type": "stream",
     "text": [
      "apple is present in the set\n"
     ]
    }
   ],
   "source": [
    "# Problem 4: Check if \"apple\" is in the set.\n",
    "if \"apple\" in fruits:\n",
    "    print(\"apple is present in the set\")\n",
    "else:\n",
    "    print(\"apple is not present in the set\")"
   ]
  },
  {
   "cell_type": "code",
   "execution_count": 8,
   "id": "2a720500-da9f-4da3-90e8-0a3b89cf72d9",
   "metadata": {},
   "outputs": [
    {
     "name": "stdout",
     "output_type": "stream",
     "text": [
      "Lenght of the list is:  3\n"
     ]
    }
   ],
   "source": [
    "# Problem 5: Find how many elements are in the set.\n",
    "print(\"Lenght of the list is: \",len(fruits))"
   ]
  },
  {
   "cell_type": "markdown",
   "id": "118854c3-cfe5-4b97-84d8-3859322dbae2",
   "metadata": {},
   "source": [
    "<br><br><br>Level: Intermediate"
   ]
  },
  {
   "cell_type": "code",
   "execution_count": 11,
   "id": "1b833fde-e77e-41c4-952b-f1bc01d7c1ef",
   "metadata": {},
   "outputs": [
    {
     "name": "stdout",
     "output_type": "stream",
     "text": [
      "{'apple', 'pineapple', 'guava', 'banana', 'cherry', 'mango'}\n"
     ]
    }
   ],
   "source": [
    "# Problem 6: Find all unique elements from two sets.\n",
    "fruits1={\"apple\",\"cherry\",\"mango\",\"banana\"}\n",
    "fruits2={\"apple\",\"mango\",\"pineapple\",\"guava\"}\n",
    "print(fruits1|fruits2)"
   ]
  },
  {
   "cell_type": "code",
   "execution_count": 12,
   "id": "18fa0e5a-26a8-480e-8bc4-f461dad869e8",
   "metadata": {},
   "outputs": [
    {
     "name": "stdout",
     "output_type": "stream",
     "text": [
      "{'apple', 'mango'}\n"
     ]
    }
   ],
   "source": [
    "# Problem 7: Find common elements between two sets.\n",
    "fruits1={\"apple\",\"cherry\",\"mango\",\"banana\"}\n",
    "fruits2={\"apple\",\"mango\",\"pineapple\",\"guava\"}\n",
    "print(fruits1&fruits2)"
   ]
  },
  {
   "cell_type": "code",
   "execution_count": 13,
   "id": "246be073-c0e7-4c33-ad71-b2b100d0263d",
   "metadata": {},
   "outputs": [
    {
     "name": "stdout",
     "output_type": "stream",
     "text": [
      "{'banana', 'cherry'}\n"
     ]
    }
   ],
   "source": [
    "# Problem 8: Find elements in set1 but not in set2.\n",
    "fruits1={\"apple\",\"cherry\",\"mango\",\"banana\"}\n",
    "fruits2={\"apple\",\"mango\",\"pineapple\",\"guava\"}\n",
    "print(fruits1-fruits2)"
   ]
  },
  {
   "cell_type": "code",
   "execution_count": 14,
   "id": "0beaf792-e12a-4810-b67d-88df6357e51f",
   "metadata": {},
   "outputs": [
    {
     "name": "stdout",
     "output_type": "stream",
     "text": [
      "{'pineapple', 'guava', 'banana', 'cherry'}\n"
     ]
    }
   ],
   "source": [
    "# Problem 9: Find elements that are in either set, but not both.\n",
    "fruits1={\"apple\",\"cherry\",\"mango\",\"banana\"}\n",
    "fruits2={\"apple\",\"mango\",\"pineapple\",\"guava\"}\n",
    "print(fruits1^fruits2)"
   ]
  },
  {
   "cell_type": "code",
   "execution_count": 15,
   "id": "f77dcf2c-f62b-48da-9a39-2fabd4a33357",
   "metadata": {},
   "outputs": [
    {
     "name": "stdout",
     "output_type": "stream",
     "text": [
      "['apple', 'apple', 'mango', 'apple', 'guava', 'mango', 'banana', 'guava']\n",
      "{'guava', 'banana', 'apple', 'mango'}\n"
     ]
    }
   ],
   "source": [
    "# Problem 10: Convert a list with duplicates into a set.\n",
    "fruits=[\"apple\",\"apple\",\"mango\",\"apple\",\"guava\",\"mango\",\"banana\",\"guava\"]\n",
    "unique_fruits=set(fruits)\n",
    "print(fruits)\n",
    "print(unique_fruits)"
   ]
  },
  {
   "cell_type": "markdown",
   "id": "9fbe87da-9028-4250-af0b-c2d5286db345",
   "metadata": {},
   "source": [
    "<br><br><br>Level: Advanced"
   ]
  },
  {
   "cell_type": "code",
   "execution_count": 19,
   "id": "3d63f536-7793-4b6e-91b2-9aa3ce5725a7",
   "metadata": {},
   "outputs": [
    {
     "name": "stdout",
     "output_type": "stream",
     "text": [
      "set1 is a superset of set2 and set2 is a subset of set1\n"
     ]
    }
   ],
   "source": [
    "# Problem: Verify if one set is a subset or superset of another.\n",
    "set1 = {1, 2, 3, 4, 5, 6, 7, 8, 9, 10}\n",
    "set2 = {1, 4, 6, 7}\n",
    "if set1.issuperset(set2):\n",
    "    print(\"set1 is a superset of set2 and set2 is a subset of set1\")\n",
    "elif set2.issuperset(set1):\n",
    "    print(\"set2 is a superset of set1 and set1 is a subset of set2\")\n",
    "elif set1 == set2:\n",
    "    print(\"Both sets are equal\")\n",
    "else:\n",
    "    print(\"Neither set is a subset or superset of the other\")"
   ]
  },
  {
   "cell_type": "code",
   "execution_count": 26,
   "id": "f9f593bb-5a95-4a8c-8911-e85477bd7185",
   "metadata": {},
   "outputs": [
    {
     "name": "stdout",
     "output_type": "stream",
     "text": [
      "{1, 2, 4, 8}\n"
     ]
    }
   ],
   "source": [
    "# Problem: Return elements that appear in exactly one of three sets.\n",
    "set1={1,2,3,4,5}\n",
    "set2={1,3,5,6,7}\n",
    "set3={1,6,7,8}\n",
    "unique=set1^set2^set3\n",
    "print(unique)"
   ]
  },
  {
   "cell_type": "code",
   "execution_count": 28,
   "id": "46282d17-7078-4a09-b971-adfdf54ce2a7",
   "metadata": {},
   "outputs": [
    {
     "name": "stdout",
     "output_type": "stream",
     "text": [
      "{1, 3, 5, 7, 9}\n"
     ]
    }
   ],
   "source": [
    "# Problem: Remove all even numbers from a set.\n",
    "numbers={1, 2, 3, 4, 5, 6, 7, 8, 9, 10}\n",
    "for number in numbers.copy():\n",
    "    if number%2==0:\n",
    "        numbers.remove(number)\n",
    "print(numbers)"
   ]
  },
  {
   "cell_type": "code",
   "execution_count": 31,
   "id": "4e726ad2-118e-4fd9-b7b1-d1bc51b1d30b",
   "metadata": {},
   "outputs": [
    {
     "name": "stdout",
     "output_type": "stream",
     "text": [
      "{1, 3}\n"
     ]
    }
   ],
   "source": [
    "# Problem: Find how many elements are common in three sets.\n",
    "set1={1,2,3,4,5}\n",
    "set2={1,3,5,6,7}\n",
    "set3={1,3,6,7,8}\n",
    "print(set1&set2&set3)"
   ]
  },
  {
   "cell_type": "code",
   "execution_count": 32,
   "id": "d200eb30-8055-46ed-91e3-100456481010",
   "metadata": {},
   "outputs": [
    {
     "name": "stdout",
     "output_type": "stream",
     "text": [
      "{3, 5}\n"
     ]
    }
   ],
   "source": [
    "# Problem: From three sets, find elements present in at least two of them.\n",
    "A = {1, 2, 3}\n",
    "B = {3, 4, 5}\n",
    "C = {3, 5, 6}\n",
    "at_least_two = (A & B) | (B & C) | (A & C)\n",
    "print(at_least_two)"
   ]
  }
 ],
 "metadata": {
  "kernelspec": {
   "display_name": "Python 3 (ipykernel)",
   "language": "python",
   "name": "python3"
  },
  "language_info": {
   "codemirror_mode": {
    "name": "ipython",
    "version": 3
   },
   "file_extension": ".py",
   "mimetype": "text/x-python",
   "name": "python",
   "nbconvert_exporter": "python",
   "pygments_lexer": "ipython3",
   "version": "3.13.7"
  }
 },
 "nbformat": 4,
 "nbformat_minor": 5
}
