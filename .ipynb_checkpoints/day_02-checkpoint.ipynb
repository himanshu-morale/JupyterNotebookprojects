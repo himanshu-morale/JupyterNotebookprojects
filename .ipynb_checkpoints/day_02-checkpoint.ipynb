{
 "cells": [
  {
   "cell_type": "code",
   "execution_count": 2,
   "id": "7d3b0514-3915-46a7-a355-ef30ffbce951",
   "metadata": {},
   "outputs": [
    {
     "name": "stdout",
     "output_type": "stream",
     "text": [
      "5\n",
      "Himanshu\n"
     ]
    }
   ],
   "source": [
    "#variables: variables are container used to store some value \n",
    "a=5\n",
    "print(a)\n",
    "name= \"Himanshu\"\n",
    "print(name)"
   ]
  },
  {
   "cell_type": "code",
   "execution_count": 4,
   "id": "372ad537-a5d8-4d5f-b9a5-3059bcac78a4",
   "metadata": {},
   "outputs": [],
   "source": [
    "#data types: defines what data a variable can store\n",
    "#1. numerical - int, float, complex\n",
    "#2. text-str\n",
    "#3. sequenced- list,tuple\n",
    "#4. sets- set, frozen set\n",
    "#5. mapped- dictionary\n",
    "#6. Boolean - True, False"
   ]
  },
  {
   "cell_type": "code",
   "execution_count": 6,
   "id": "db85fa8c-4128-4ce3-8f2a-81c6bc5f7914",
   "metadata": {},
   "outputs": [
    {
     "name": "stdout",
     "output_type": "stream",
     "text": [
      "<class 'int'>\n",
      "<class 'float'>\n",
      "<class 'complex'>\n"
     ]
    }
   ],
   "source": [
    "#numerical\n",
    "a=5\n",
    "b=5.5\n",
    "c=3+5j\n",
    "print(type(a))\n",
    "print(type(b))\n",
    "print(type(c))"
   ]
  },
  {
   "cell_type": "code",
   "execution_count": 8,
   "id": "7daa29a6-d798-446d-86af-16f121f53bf6",
   "metadata": {},
   "outputs": [
    {
     "name": "stdout",
     "output_type": "stream",
     "text": [
      "<class 'str'>\n"
     ]
    }
   ],
   "source": [
    "#text data type: string\n",
    "name=\"himanshu\"\n",
    "print(type(name))"
   ]
  },
  {
   "cell_type": "code",
   "execution_count": 13,
   "id": "e41289d2-43b2-46ff-85ba-da345b579e79",
   "metadata": {},
   "outputs": [
    {
     "name": "stdout",
     "output_type": "stream",
     "text": [
      "<class 'list'>\n",
      "<class 'tuple'>\n"
     ]
    }
   ],
   "source": [
    "# sequenced data type:list , tuple\n",
    "number=[1,2,3,4]\n",
    "print(type(number))\n",
    "nums=(1,2,3,4)\n",
    "print(type(nums))"
   ]
  },
  {
   "cell_type": "code",
   "execution_count": 11,
   "id": "c0ba756c-2ccb-403d-b000-e30a625e9680",
   "metadata": {},
   "outputs": [
    {
     "name": "stdout",
     "output_type": "stream",
     "text": [
      "<class 'set'>\n"
     ]
    }
   ],
   "source": [
    "#sets\n",
    "a={'Himanshu',4,5,'mariyo'}\n",
    "print(a)\n",
    "print(type(a))"
   ]
  },
  {
   "cell_type": "code",
   "execution_count": 12,
   "id": "f13cb32e-92e0-412b-a8ac-ee868503679c",
   "metadata": {},
   "outputs": [
    {
     "name": "stdout",
     "output_type": "stream",
     "text": [
      "{'name': 'himanshu', 'age': 20, 'sec': 'a'}\n",
      "<class 'dict'>\n"
     ]
    }
   ],
   "source": [
    "#dictionary\n",
    "a={\"name\":\"himanshu\",\"age\":20,\"sec\":\"a\"}\n",
    "print(a)\n",
    "print(type(a))"
   ]
  },
  {
   "cell_type": "code",
   "execution_count": 14,
   "id": "75a9415f-f94f-4d38-ae27-26153cb1e51d",
   "metadata": {},
   "outputs": [],
   "source": [
    "#operators\n",
    "#1. arithmatic\n",
    "#2. assignment\n",
    "#3. comparison\n",
    "#4. logical"
   ]
  },
  {
   "cell_type": "code",
   "execution_count": 18,
   "id": "7e0e7c64-45f3-492f-b46c-4c49ec298f73",
   "metadata": {},
   "outputs": [
    {
     "name": "stdout",
     "output_type": "stream",
     "text": [
      "13\n",
      "7\n",
      "30\n",
      "3.3333333333333335\n",
      "3\n",
      "1\n",
      "1000\n"
     ]
    }
   ],
   "source": [
    "#1. arithmatic operators\n",
    "a,b=10,3\n",
    "print(a+b)\n",
    "print(a-b)\n",
    "print(a*b)\n",
    "print(a/b)\n",
    "print(a//b)\n",
    "print(a%b)\n",
    "print(a**b)"
   ]
  },
  {
   "cell_type": "code",
   "execution_count": 22,
   "id": "d736709a-dd7a-4201-b771-d322dc2be3c0",
   "metadata": {},
   "outputs": [
    {
     "name": "stdout",
     "output_type": "stream",
     "text": [
      "10\n",
      "6\n",
      "24\n",
      "6.0\n",
      "1.0\n",
      "1.0\n"
     ]
    }
   ],
   "source": [
    "#2. assignment operator\n",
    "a=6\n",
    "b=4\n",
    "a+=b\n",
    "print(a)\n",
    "a-=b\n",
    "print(a)\n",
    "a*=b\n",
    "print(a)\n",
    "a/=b\n",
    "print(a)\n",
    "a//=b\n",
    "print(a)\n",
    "a%=b\n",
    "print(a)"
   ]
  },
  {
   "cell_type": "code",
   "execution_count": 23,
   "id": "75d5dd6f-624e-4aac-ac73-15de599d6835",
   "metadata": {},
   "outputs": [
    {
     "name": "stdout",
     "output_type": "stream",
     "text": [
      "False\n",
      "True\n",
      "True\n",
      "False\n",
      "True\n",
      "False\n"
     ]
    }
   ],
   "source": [
    "#comparison operator\n",
    "a=10\n",
    "b=5\n",
    "print(a==b)\n",
    "print(a!=b)\n",
    "print(a>b)\n",
    "print(a<b)\n",
    "print(a>=b)\n",
    "print(a<=b)"
   ]
  },
  {
   "cell_type": "code",
   "execution_count": 24,
   "id": "2368ec7f-6b28-4db6-8c46-a712caaea7a9",
   "metadata": {},
   "outputs": [
    {
     "name": "stdout",
     "output_type": "stream",
     "text": [
      "False\n",
      "True\n",
      "False\n"
     ]
    }
   ],
   "source": [
    "#logical operator\n",
    "a=True\n",
    "b=False\n",
    "print(a and b)\n",
    "print(a or b)\n",
    "print(not a)"
   ]
  },
  {
   "cell_type": "code",
   "execution_count": null,
   "id": "41d32a86-5b2a-467a-8e32-cc0bacf7795d",
   "metadata": {},
   "outputs": [],
   "source": [
    "#type conversion\n",
    "#1. explicit\n",
    "#2. implicit"
   ]
  },
  {
   "cell_type": "code",
   "execution_count": 25,
   "id": "7737f901-b5b0-427b-a00a-ac0b4bfc8f86",
   "metadata": {},
   "outputs": [
    {
     "name": "stdout",
     "output_type": "stream",
     "text": [
      "20\n"
     ]
    }
   ],
   "source": [
    "#explicit typecasting\n",
    "string=\"15\"\n",
    "string_num=int(string)\n",
    "num=5\n",
    "sum=num+string_num\n",
    "print(sum)\n"
   ]
  },
  {
   "cell_type": "code",
   "execution_count": 26,
   "id": "a13147a9-a8d8-4b48-b3a2-89799425b60a",
   "metadata": {},
   "outputs": [
    {
     "name": "stdout",
     "output_type": "stream",
     "text": [
      "5\n",
      "<class 'int'>\n",
      "3.5\n",
      "<class 'float'>\n",
      "8.5\n",
      "<class 'float'>\n"
     ]
    }
   ],
   "source": [
    "#implicit type casting\n",
    "a=5\n",
    "print(a)\n",
    "print(type(a))\n",
    "b=3.5\n",
    "print(b)\n",
    "print(type(b))\n",
    "c=a+b\n",
    "print(c)\n",
    "print(type(c))"
   ]
  }
 ],
 "metadata": {
  "kernelspec": {
   "display_name": "Python 3 (ipykernel)",
   "language": "python",
   "name": "python3"
  },
  "language_info": {
   "codemirror_mode": {
    "name": "ipython",
    "version": 3
   },
   "file_extension": ".py",
   "mimetype": "text/x-python",
   "name": "python",
   "nbconvert_exporter": "python",
   "pygments_lexer": "ipython3",
   "version": "3.13.7"
  }
 },
 "nbformat": 4,
 "nbformat_minor": 5
}
