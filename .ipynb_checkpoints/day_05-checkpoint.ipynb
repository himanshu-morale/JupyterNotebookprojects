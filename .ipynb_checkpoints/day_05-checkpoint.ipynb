{
 "cells": [
  {
   "cell_type": "code",
   "execution_count": null,
   "id": "4d902a20-3d24-44d1-bf81-c8bc940c2e58",
   "metadata": {},
   "outputs": [],
   "source": [
    "#loops: are used to execute a block of code multiple times\n",
    "# types of loops:\n",
    "# 1. for loop\n",
    "# 2. while loop"
   ]
  },
  {
   "cell_type": "code",
   "execution_count": null,
   "id": "905c6df6-0488-49bd-867f-192eb78dc56c",
   "metadata": {},
   "outputs": [],
   "source": [
    "# for loop syntax\n",
    "# for variable in sequence:\n",
    "#     code\n",
    "\n",
    "# while loop syntax\n",
    "# while (condition):\n",
    "#     code"
   ]
  }
 ],
 "metadata": {
  "kernelspec": {
   "display_name": "Python 3 (ipykernel)",
   "language": "python",
   "name": "python3"
  },
  "language_info": {
   "codemirror_mode": {
    "name": "ipython",
    "version": 3
   },
   "file_extension": ".py",
   "mimetype": "text/x-python",
   "name": "python",
   "nbconvert_exporter": "python",
   "pygments_lexer": "ipython3",
   "version": "3.13.7"
  }
 },
 "nbformat": 4,
 "nbformat_minor": 5
}
