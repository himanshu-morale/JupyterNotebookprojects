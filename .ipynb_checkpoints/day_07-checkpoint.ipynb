{
 "cells": [
  {
   "cell_type": "markdown",
   "id": "aee6b998-371b-4ea2-8f06-17be997f881e",
   "metadata": {},
   "source": [
    "**Lists**"
   ]
  },
  {
   "cell_type": "code",
   "execution_count": 1,
   "id": "565841ec-f86a-44dd-8879-33b00541af17",
   "metadata": {},
   "outputs": [
    {
     "name": "stdout",
     "output_type": "stream",
     "text": [
      "[1, 'hello', 3.14, True]\n"
     ]
    }
   ],
   "source": [
    "# list is ordered,mutable(changable)and indexed collection of elements\n",
    "# It can store different data type in a single list\n",
    "\n",
    "mylist=[1,\"hello\",3.14,True]\n",
    "print(mylist)"
   ]
  },
  {
   "cell_type": "markdown",
   "id": "346140f7-5b01-4214-a30a-df58736d64a3",
   "metadata": {},
   "source": [
    "**creating a list**"
   ]
  },
  {
   "cell_type": "code",
   "execution_count": 3,
   "id": "86032cf3-8e10-41c2-b1ae-c33cc1a73a93",
   "metadata": {},
   "outputs": [],
   "source": [
    "# empty list\n",
    "list1=[]\n",
    "\n",
    "# list with elements\n",
    "list2=[1,2,3,4]\n",
    "\n",
    "# List with different data types element\n",
    "list3=[1,\"hello\",3.14,True]\n",
    "\n",
    "# Nested list\n",
    "list4=[1,[2,3],[4,5]]"
   ]
  },
  {
   "cell_type": "markdown",
   "id": "a35af8aa-f68a-4ccd-ba51-a2bcc189bb77",
   "metadata": {},
   "source": [
    "**Accesing elemets of list**"
   ]
  },
  {
   "cell_type": "code",
   "execution_count": 9,
   "id": "951ef41c-9b2a-46bd-a964-de034166273d",
   "metadata": {},
   "outputs": [
    {
     "name": "stdout",
     "output_type": "stream",
     "text": [
      "apple\n",
      "cherry\n",
      "cherry\n"
     ]
    }
   ],
   "source": [
    "fruits=[\"apple\",\"banana\",\"cherry\"]\n",
    "print(fruits[0])\n",
    "print(fruits[2])\n",
    "print(fruits[-1])"
   ]
  },
  {
   "cell_type": "markdown",
   "id": "339f85d4-d522-4f73-b2d7-8c0dd3953310",
   "metadata": {},
   "source": [
    "**Slicing Lists**"
   ]
  },
  {
   "cell_type": "code",
   "execution_count": 16,
   "id": "5e67ea26-6967-4944-90c8-afc4674f1ff0",
   "metadata": {},
   "outputs": [
    {
     "name": "stdout",
     "output_type": "stream",
     "text": [
      "[2, 3, 4]\n",
      "[5, 6, 7]\n",
      "[2, 4, 6, 8]\n"
     ]
    }
   ],
   "source": [
    "list1=[1,2,3,4,5,6,7,8,9]\n",
    "print(list1[1:4])\n",
    "print(list1[-5:-2])\n",
    "print(list1[1:9:2])"
   ]
  },
  {
   "cell_type": "markdown",
   "id": "78de7d0b-f96a-4e19-9501-08062c53d5e1",
   "metadata": {},
   "source": [
    "**Modifying a list**"
   ]
  },
  {
   "cell_type": "code",
   "execution_count": 17,
   "id": "a669b14f-945f-49e0-b660-5e6d064c3ce2",
   "metadata": {},
   "outputs": [
    {
     "name": "stdout",
     "output_type": "stream",
     "text": [
      "['orange', 'red', 'blue']\n",
      "['orange', 'yellow', 'blue']\n"
     ]
    }
   ],
   "source": [
    "colors=[\"orange\",\"red\",\"blue\"]\n",
    "print(colors)\n",
    "colors[1]=\"yellow\"\n",
    "print(colors)"
   ]
  },
  {
   "cell_type": "markdown",
   "id": "583f9a65-507e-4f54-85bc-9daee2f0895b",
   "metadata": {},
   "source": [
    "**Adding elements**"
   ]
  },
  {
   "cell_type": "code",
   "execution_count": 40,
   "id": "a61ccbf7-e545-41a4-938e-a2e46d52e0bc",
   "metadata": {},
   "outputs": [],
   "source": [
    "# Using Append\n",
    "colors.append(\"purple\")\n",
    "print(colors)\n",
    "\n",
    "# using insert\n",
    "colors.insert(1,\"cyan\")\n",
    "print(colors)\n",
    "\n",
    "# using Extend: extent list with another list\n",
    "colors.extend([\"green\",\"navy blue\"])\n",
    "print(colors)"
   ]
  },
  {
   "cell_type": "markdown",
   "id": "f92f76c6-4316-4906-8544-6e795130245d",
   "metadata": {},
   "source": [
    "**Deleting elements**"
   ]
  },
  {
   "cell_type": "code",
   "execution_count": 42,
   "id": "3392a9f7-7be8-460e-b2c5-a0f8c155c45c",
   "metadata": {},
   "outputs": [
    {
     "name": "stdout",
     "output_type": "stream",
     "text": [
      "['orange', 'cyan', 'yellow', 'blue', 'purple', 'green', 'navy blue']\n",
      "['orange', 'yellow', 'blue', 'purple', 'green', 'navy blue']\n",
      "['orange', 'yellow', 'purple', 'green', 'navy blue']\n",
      "[]\n"
     ]
    }
   ],
   "source": [
    "print(colors)\n",
    "# remove by value\n",
    "colors.remove(\"cyan\")\n",
    "print(colors)\n",
    "#remove by index\n",
    "colors.pop(2)\n",
    "print(colors)\n",
    "# empty the list\n",
    "colors.clear()\n",
    "print(colors)"
   ]
  },
  {
   "cell_type": "markdown",
   "id": "4138edbd-eacd-4375-b1b0-6aee6078ff91",
   "metadata": {},
   "source": [
    "**List Functions**"
   ]
  },
  {
   "cell_type": "code",
   "execution_count": null,
   "id": "cf482b65-aa66-4302-8b24-73e1b5b6fb82",
   "metadata": {},
   "outputs": [],
   "source": [
    "# len\n",
    "# max\n",
    "# min\n",
    "# sum\n",
    "# sorted"
   ]
  },
  {
   "cell_type": "markdown",
   "id": "40675686-8b44-4ae6-8c4b-0256d27e7324",
   "metadata": {},
   "source": [
    "**Looping through a list**"
   ]
  },
  {
   "cell_type": "code",
   "execution_count": 43,
   "id": "6dbbbab9-6359-40b9-a990-9e007d7eb779",
   "metadata": {},
   "outputs": [
    {
     "name": "stdout",
     "output_type": "stream",
     "text": [
      "apple\n",
      "banana\n",
      "cherry\n",
      "0 apple\n",
      "1 banana\n",
      "2 cherry\n"
     ]
    }
   ],
   "source": [
    "fruits = [\"apple\", \"banana\", \"cherry\"]\n",
    "\n",
    "# using for loop\n",
    "for f in fruits:\n",
    "    print(f)\n",
    "\n",
    "# using index\n",
    "for i in range(len(fruits)):\n",
    "    print(i, fruits[i])\n"
   ]
  }
 ],
 "metadata": {
  "kernelspec": {
   "display_name": "Python 3 (ipykernel)",
   "language": "python",
   "name": "python3"
  },
  "language_info": {
   "codemirror_mode": {
    "name": "ipython",
    "version": 3
   },
   "file_extension": ".py",
   "mimetype": "text/x-python",
   "name": "python",
   "nbconvert_exporter": "python",
   "pygments_lexer": "ipython3",
   "version": "3.13.7"
  }
 },
 "nbformat": 4,
 "nbformat_minor": 5
}
