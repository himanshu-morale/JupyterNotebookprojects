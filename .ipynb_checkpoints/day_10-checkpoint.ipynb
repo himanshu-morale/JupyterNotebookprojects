{
 "cells": [
  {
   "cell_type": "markdown",
   "id": "76cc173b-9ad2-4b8a-b47d-3b32db62c29d",
   "metadata": {},
   "source": [
    "**Exception handling in Python**"
   ]
  },
  {
   "cell_type": "code",
   "execution_count": null,
   "id": "1bad67d0-dab9-4a89-971f-e1882390fdd4",
   "metadata": {},
   "outputs": [],
   "source": [
    "# Exception handling allows you to handle runtime errors gracefully-\n",
    "# instead of your program crashing you can handle the error and continue exection."
   ]
  },
  {
   "cell_type": "markdown",
   "id": "71f0ccf2-0fac-4cda-8ddf-de2b91d06051",
   "metadata": {},
   "source": [
    "Syntax"
   ]
  },
  {
   "cell_type": "code",
   "execution_count": null,
   "id": "ec86e4ee-9636-4704-95f0-a3c0cc313f74",
   "metadata": {},
   "outputs": [],
   "source": [
    "try:\n",
    "    # riskycode\n",
    "except:\n",
    "    # handle error"
   ]
  },
  {
   "cell_type": "markdown",
   "id": "08735a10-9685-429b-8986-f52275ab90b3",
   "metadata": {},
   "source": [
    "Example"
   ]
  },
  {
   "cell_type": "code",
   "execution_count": 2,
   "id": "d8ce6b74-3a0f-4642-ad39-c9e58734dd0b",
   "metadata": {},
   "outputs": [
    {
     "name": "stdin",
     "output_type": "stream",
     "text": [
      "Enter a number:  d\n"
     ]
    },
    {
     "ename": "ValueError",
     "evalue": "invalid literal for int() with base 10: 'd'",
     "output_type": "error",
     "traceback": [
      "\u001b[31m---------------------------------------------------------------------------\u001b[39m",
      "\u001b[31mValueError\u001b[39m                                Traceback (most recent call last)",
      "\u001b[36mCell\u001b[39m\u001b[36m \u001b[39m\u001b[32mIn[2]\u001b[39m\u001b[32m, line 1\u001b[39m\n\u001b[32m----> \u001b[39m\u001b[32m1\u001b[39m num = \u001b[38;5;28;43mint\u001b[39;49m\u001b[43m(\u001b[49m\u001b[38;5;28;43minput\u001b[39;49m\u001b[43m(\u001b[49m\u001b[33;43m\"\u001b[39;49m\u001b[33;43mEnter a number: \u001b[39;49m\u001b[33;43m\"\u001b[39;49m\u001b[43m)\u001b[49m\u001b[43m)\u001b[49m\n\u001b[32m      2\u001b[39m \u001b[38;5;28mprint\u001b[39m(\u001b[33m\"\u001b[39m\u001b[33mYou entered:\u001b[39m\u001b[33m\"\u001b[39m, num)\n",
      "\u001b[31mValueError\u001b[39m: invalid literal for int() with base 10: 'd'"
     ]
    }
   ],
   "source": [
    "# Without try an except\n",
    "num = int(input(\"Enter a number: \"))\n",
    "print(\"You entered:\", num)"
   ]
  },
  {
   "cell_type": "code",
   "execution_count": 1,
   "id": "784007ba-1d07-4a61-9859-a104452a82d7",
   "metadata": {},
   "outputs": [
    {
     "name": "stdin",
     "output_type": "stream",
     "text": [
      "Enter a number:  s\n"
     ]
    },
    {
     "name": "stdout",
     "output_type": "stream",
     "text": [
      "An error occurred! Please enter a valid number.\n"
     ]
    }
   ],
   "source": [
    "# With try and except\n",
    "try:\n",
    "    num = int(input(\"Enter a number: \"))\n",
    "    print(\"You entered:\", num)\n",
    "except:\n",
    "    print(\"An error occurred! Please enter a valid number.\")\n"
   ]
  },
  {
   "cell_type": "markdown",
   "id": "67b1cd45-ad27-4ba0-9b36-228c58c7d5ef",
   "metadata": {},
   "source": [
    "<br><br><br>Catching specific exceptions"
   ]
  },
  {
   "cell_type": "code",
   "execution_count": 11,
   "id": "03d240be-ce83-4893-a17b-0154fa2ab4c6",
   "metadata": {},
   "outputs": [
    {
     "name": "stdin",
     "output_type": "stream",
     "text": [
      "Enter number 1 : 5\n",
      "Enter number 2 : 0\n"
     ]
    },
    {
     "name": "stdout",
     "output_type": "stream",
     "text": [
      "Cannot divide by zero!\n"
     ]
    }
   ],
   "source": [
    "try:\n",
    "    num1=int(input(\"Enter number 1 :\"))\n",
    "    num2=int(input(\"Enter number 2 :\"))\n",
    "    div=num1/num2\n",
    "    print(\"Division: \",div)\n",
    "except ZeroDivisionError:\n",
    "    print(\"Cannot divide by zero!\")\n",
    "except ValueError:\n",
    "    print(\"Enter a valid number:\")"
   ]
  },
  {
   "cell_type": "markdown",
   "id": "a66af8c1-7294-45ad-8b59-2c8294de82d0",
   "metadata": {},
   "source": [
    "<br><br><br>Multiple Exceptions Together"
   ]
  },
  {
   "cell_type": "code",
   "execution_count": 8,
   "id": "48c9ec38-f1b9-4a9b-a424-9365acf5d162",
   "metadata": {},
   "outputs": [
    {
     "name": "stdin",
     "output_type": "stream",
     "text": [
      "Enter number 1 : 5\n",
      "Enter number 2 : 0\n"
     ]
    },
    {
     "name": "stdout",
     "output_type": "stream",
     "text": [
      "An Error occured : division by zero\n"
     ]
    }
   ],
   "source": [
    "try:\n",
    "    num1=int(input(\"Enter number 1 :\"))\n",
    "    num2=int(input(\"Enter number 2 :\"))\n",
    "    div=num1/num2\n",
    "    print(\"Division: \",div)\n",
    "except (ZeroDivisionError,ValueError) as e:\n",
    "    print(\"An Error occured :\",e)"
   ]
  },
  {
   "cell_type": "markdown",
   "id": "ea2d75fd-9856-4353-9c7b-69be9f610d7c",
   "metadata": {},
   "source": [
    "<br><br><br>Using else and finally"
   ]
  },
  {
   "cell_type": "code",
   "execution_count": null,
   "id": "44924d17-1698-443f-8d02-df54769f28f4",
   "metadata": {},
   "outputs": [],
   "source": [
    "# The else block runs only if no exception occurs.\n",
    "# The finally block always runs, whether there’s an exception or not — useful for cleanup (e.g., closing files, releasing resources)."
   ]
  },
  {
   "cell_type": "code",
   "execution_count": 9,
   "id": "b2baf987-8509-4d10-a759-45b508269bf4",
   "metadata": {},
   "outputs": [
    {
     "name": "stdin",
     "output_type": "stream",
     "text": [
      "Enter number 1 : 5\n",
      "Enter number 2 : 10\n"
     ]
    },
    {
     "name": "stdout",
     "output_type": "stream",
     "text": [
      "Division:  0.5\n",
      "Division Successfull\n",
      "Bye Bye\n"
     ]
    }
   ],
   "source": [
    "try:\n",
    "    num1=int(input(\"Enter number 1 :\"))\n",
    "    num2=int(input(\"Enter number 2 :\"))\n",
    "    div=num1/num2\n",
    "    print(\"Division: \",div)\n",
    "except ZeroDivisionError:\n",
    "    print(\"Cannot divide by zero!\")\n",
    "else:\n",
    "    print(\"Division Successfull\")\n",
    "finally:\n",
    "    print(\"Bye Bye\")"
   ]
  },
  {
   "cell_type": "markdown",
   "id": "37a5667e-9af9-43dc-ad85-b83f6211797a",
   "metadata": {},
   "source": [
    "<br><br><br>Raising exception manually"
   ]
  },
  {
   "cell_type": "code",
   "execution_count": null,
   "id": "149ec787-b0a1-433b-b21b-8f549f07644c",
   "metadata": {},
   "outputs": [],
   "source": [
    "# You can raise an exception yourself using raise"
   ]
  },
  {
   "cell_type": "code",
   "execution_count": 12,
   "id": "7d2ddec8-e461-48e0-97d1-f5e10a2f7a02",
   "metadata": {},
   "outputs": [
    {
     "name": "stdin",
     "output_type": "stream",
     "text": [
      "Enter your age:  2\n"
     ]
    },
    {
     "ename": "ValueError",
     "evalue": "You must be above 18",
     "output_type": "error",
     "traceback": [
      "\u001b[31m---------------------------------------------------------------------------\u001b[39m",
      "\u001b[31mValueError\u001b[39m                                Traceback (most recent call last)",
      "\u001b[36mCell\u001b[39m\u001b[36m \u001b[39m\u001b[32mIn[12]\u001b[39m\u001b[32m, line 3\u001b[39m\n\u001b[32m      1\u001b[39m age=\u001b[38;5;28mint\u001b[39m(\u001b[38;5;28minput\u001b[39m(\u001b[33m\"\u001b[39m\u001b[33mEnter your age: \u001b[39m\u001b[33m\"\u001b[39m))\n\u001b[32m      2\u001b[39m \u001b[38;5;28;01mif\u001b[39;00m age<\u001b[32m18\u001b[39m:\n\u001b[32m----> \u001b[39m\u001b[32m3\u001b[39m     \u001b[38;5;28;01mraise\u001b[39;00m \u001b[38;5;167;01mValueError\u001b[39;00m(\u001b[33m\"\u001b[39m\u001b[33mYou must be above 18\u001b[39m\u001b[33m\"\u001b[39m)\n",
      "\u001b[31mValueError\u001b[39m: You must be above 18"
     ]
    }
   ],
   "source": [
    "age=int(input(\"Enter your age: \"))\n",
    "if age<18:\n",
    "    raise ValueError(\"You must be above 18\")"
   ]
  },
  {
   "cell_type": "markdown",
   "id": "a2999779-3c65-4571-b573-c0998c58c0a1",
   "metadata": {},
   "source": [
    "<br><br><br>Common Built-in Exceptions"
   ]
  },
  {
   "cell_type": "code",
   "execution_count": 13,
   "id": "8ab92797-2156-4a0c-814f-166521b8474f",
   "metadata": {},
   "outputs": [],
   "source": [
    "# ZeroDivisionError: division by zero \n",
    "# ValueError: Invalid Value\n",
    "# TypeError: wrong datatype\n",
    "# IndexError: Accesing invalid index\n",
    "# KeyError: Accessing missing dictionary key\n",
    "# FileNotFoundError: File not found"
   ]
  }
 ],
 "metadata": {
  "kernelspec": {
   "display_name": "Python 3 (ipykernel)",
   "language": "python",
   "name": "python3"
  },
  "language_info": {
   "codemirror_mode": {
    "name": "ipython",
    "version": 3
   },
   "file_extension": ".py",
   "mimetype": "text/x-python",
   "name": "python",
   "nbconvert_exporter": "python",
   "pygments_lexer": "ipython3",
   "version": "3.13.7"
  }
 },
 "nbformat": 4,
 "nbformat_minor": 5
}
