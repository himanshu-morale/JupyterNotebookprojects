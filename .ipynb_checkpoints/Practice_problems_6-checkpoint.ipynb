{
 "cells": [
  {
   "cell_type": "markdown",
   "id": "5126f27f-65ce-413c-8b1d-03e0eb00b8e2",
   "metadata": {},
   "source": [
    "**Topic:Lists**"
   ]
  },
  {
   "cell_type": "markdown",
   "id": "7c292238-acfb-4334-bb04-82ec8533588d",
   "metadata": {},
   "source": [
    "**LEVEL:Basic**"
   ]
  },
  {
   "cell_type": "code",
   "execution_count": 1,
   "id": "5338b142-f7ef-441c-9364-c53f7e4ef7bd",
   "metadata": {},
   "outputs": [
    {
     "name": "stdout",
     "output_type": "stream",
     "text": [
      "[1, 2, 3, 4, 5]\n"
     ]
    }
   ],
   "source": [
    "# 1️⃣Create a list of 5 numbers and print it.\n",
    "mylist=[1,2,3,4,5]\n",
    "print(mylist)"
   ]
  },
  {
   "cell_type": "code",
   "execution_count": 2,
   "id": "9d1c4011-3b76-4e3f-ae5b-f1d059aa24de",
   "metadata": {},
   "outputs": [
    {
     "name": "stdout",
     "output_type": "stream",
     "text": [
      "First Element:  1\n",
      "Middle Element:  3\n",
      "LastElement:  5\n"
     ]
    }
   ],
   "source": [
    "# 2️⃣ Access and print the first, middle, and last elements of the list.\n",
    "print(\"First Element: \",mylist[0])\n",
    "print(\"Middle Element: \",mylist[2])\n",
    "print(\"LastElement: \",mylist[4])"
   ]
  },
  {
   "cell_type": "code",
   "execution_count": 3,
   "id": "122c9a86-660e-4c04-9267-822af77721e1",
   "metadata": {},
   "outputs": [
    {
     "name": "stdout",
     "output_type": "stream",
     "text": [
      "[1, 'python', 3, 4, 5]\n"
     ]
    }
   ],
   "source": [
    "# 3️⃣ Change the second element of the list to \"Python\".\n",
    "mylist[1]=\"python\"\n",
    "print(mylist)"
   ]
  },
  {
   "cell_type": "code",
   "execution_count": 4,
   "id": "7eea4662-7471-4539-8fe5-6cd66924e198",
   "metadata": {},
   "outputs": [
    {
     "name": "stdout",
     "output_type": "stream",
     "text": [
      "[1, 'python', 3, 4, 5, 'AI']\n"
     ]
    }
   ],
   "source": [
    "# 4️⃣ Add \"AI\" to the list using .append().\n",
    "mylist.append(\"AI\")\n",
    "print(mylist)"
   ]
  },
  {
   "cell_type": "code",
   "execution_count": 5,
   "id": "678bf2ff-aa00-4105-abda-b371960b75b9",
   "metadata": {},
   "outputs": [
    {
     "name": "stdout",
     "output_type": "stream",
     "text": [
      "[1, 'python', 'ML', 3, 4, 5, 'AI']\n"
     ]
    }
   ],
   "source": [
    "# 5️⃣ Insert \"ML\" at index 2.\n",
    "mylist.insert(2,\"ML\")\n",
    "print(mylist)"
   ]
  },
  {
   "cell_type": "code",
   "execution_count": 6,
   "id": "ec2a20a9-75c8-49ce-b436-da27a8e4ab3a",
   "metadata": {},
   "outputs": [
    {
     "name": "stdout",
     "output_type": "stream",
     "text": [
      "[1, 'python', 'ML', 3, 4, 5]\n"
     ]
    }
   ],
   "source": [
    "# 6️⃣ Remove the last element using .pop().\n",
    "mylist.pop()\n",
    "print(mylist)"
   ]
  },
  {
   "cell_type": "code",
   "execution_count": 7,
   "id": "52d4b7b0-ca19-497b-8f57-2126a79dc690",
   "metadata": {},
   "outputs": [
    {
     "name": "stdout",
     "output_type": "stream",
     "text": [
      "[1, 'ML', 3, 4, 5]\n"
     ]
    }
   ],
   "source": [
    "# 7️⃣ Remove \"Python\" from the list using .remove().\n",
    "mylist.remove(\"python\")\n",
    "print(mylist)"
   ]
  },
  {
   "cell_type": "code",
   "execution_count": 8,
   "id": "0b6c65cb-f8e0-4bc8-b894-1e35d8b642a7",
   "metadata": {},
   "outputs": [
    {
     "name": "stdout",
     "output_type": "stream",
     "text": [
      "15\n",
      "3.0\n"
     ]
    }
   ],
   "source": [
    "# 8️⃣ Create a list of numbers and print their sum and average.\n",
    "mylist=[1,2,3,4,5]\n",
    "print(sum(mylist))\n",
    "print(sum(mylist)/len(mylist))"
   ]
  },
  {
   "cell_type": "code",
   "execution_count": 9,
   "id": "384d13d9-b6f7-413e-a904-25944a899d8c",
   "metadata": {},
   "outputs": [
    {
     "name": "stdout",
     "output_type": "stream",
     "text": [
      "5\n",
      "1\n"
     ]
    }
   ],
   "source": [
    "# 9️⃣ Find the maximum and minimum elements from a list.\n",
    "print(max(mylist))\n",
    "print(min(mylist))"
   ]
  },
  {
   "cell_type": "code",
   "execution_count": 10,
   "id": "ce94d234-821e-43c4-a21d-176109b0e6fb",
   "metadata": {},
   "outputs": [
    {
     "name": "stdout",
     "output_type": "stream",
     "text": [
      "apple is present\n"
     ]
    }
   ],
   "source": [
    "# 🔟 Check if \"apple\" is present in the list [\"banana\", \"apple\", \"cherry\"].\n",
    "fruits=[\"banana\", \"apple\", \"cherry\"]\n",
    "if (\"apple\" in fruits):\n",
    "    print(\"apple is present\")\n",
    "else:\n",
    "    print(\"apple is not present\")"
   ]
  },
  {
   "cell_type": "markdown",
   "id": "dcbad36c-7e1a-4d16-a46d-c54decd14c3d",
   "metadata": {},
   "source": [
    "**LEVEL: Intermediate**"
   ]
  },
  {
   "cell_type": "code",
   "execution_count": null,
   "id": "21df9907-4f17-4f25-80e5-0c59d367f399",
   "metadata": {},
   "outputs": [],
   "source": [
    "\n",
    "\n",
    "\n",
    "\n",
    "\n",
    "\n",
    "\n",
    "\n",
    "\n"
   ]
  },
  {
   "cell_type": "code",
   "execution_count": 12,
   "id": "5663bbf2-75c0-48a1-8ab3-b64efbf44d6c",
   "metadata": {},
   "outputs": [
    {
     "name": "stdout",
     "output_type": "stream",
     "text": [
      "2\n",
      "4\n",
      "6\n",
      "8\n",
      "10\n"
     ]
    }
   ],
   "source": [
    "# 11. Create a list of 10 integers and print only the even numbers.\n",
    "mylist=[1,2,3,4,5,6,7,8,9,10]\n",
    "for num in mylist:\n",
    "    if num%2==0:\n",
    "        print(num)"
   ]
  },
  {
   "cell_type": "code",
   "execution_count": 14,
   "id": "b6995a66-8568-40fd-bc08-fa7e52006c1c",
   "metadata": {},
   "outputs": [
    {
     "name": "stdout",
     "output_type": "stream",
     "text": [
      "[5, 4, 3, 2, 1]\n"
     ]
    }
   ],
   "source": [
    "# 12. Reverse a list without using .reverse() (hint: slicing).\n",
    "mylist=[1,2,3,4,5]\n",
    "rev_mylist=mylist[::-1]\n",
    "print(rev_mylist)"
   ]
  },
  {
   "cell_type": "code",
   "execution_count": 19,
   "id": "5f02dc3c-f6ae-4cfd-9910-c48fb9ba87d6",
   "metadata": {},
   "outputs": [
    {
     "name": "stdout",
     "output_type": "stream",
     "text": [
      "Ascending order: [12, 25, 34, 54, 67, 101]\n",
      "Descending order: [101, 67, 54, 34, 25, 12]\n"
     ]
    }
   ],
   "source": [
    "# 13. Sort a list in ascending and descending order.\n",
    "mylist=[54,34,25,67,12,101]\n",
    "sorted_asc=sorted(mylist)\n",
    "print(\"Ascending order:\",sorted_asc)\n",
    "sorted_des=sorted_asc[::-1]\n",
    "print(\"Descending order:\",sorted_des)"
   ]
  },
  {
   "cell_type": "code",
   "execution_count": 20,
   "id": "3b6a0617-9501-4295-95a6-0170f3045471",
   "metadata": {},
   "outputs": [
    {
     "name": "stdout",
     "output_type": "stream",
     "text": [
      "[1, 2, 3, 4, 5, 6]\n"
     ]
    }
   ],
   "source": [
    "# 14. Merge two lists:\n",
    "list1=[1,2,3]\n",
    "list2=[4,5,6]\n",
    "list1.extend(list2)\n",
    "print(list1)"
   ]
  },
  {
   "cell_type": "code",
   "execution_count": 2,
   "id": "344e2eeb-f7f8-4bad-b4cc-a89c09f3a9d6",
   "metadata": {},
   "outputs": [
    {
     "name": "stdout",
     "output_type": "stream",
     "text": [
      "4\n"
     ]
    }
   ],
   "source": [
    "# 15. Count how many times a specific number appears in a list.\n",
    "mylist=[1,2,3,2,4,2,5,2]\n",
    "target=2\n",
    "count=mylist.count(target)\n",
    "print(count)"
   ]
  },
  {
   "cell_type": "code",
   "execution_count": 6,
   "id": "e7f0ca99-e22d-4006-9568-23fda0d2cb62",
   "metadata": {},
   "outputs": [
    {
     "name": "stdout",
     "output_type": "stream",
     "text": [
      "Orignal list:  [1, 2, 3, 3, 2, 4, 2, 4, 5, 2, 5]\n",
      "List without duplicates: [1, 2, 3, 4, 5]\n"
     ]
    }
   ],
   "source": [
    "# 16. Remove duplicates from a list while maintaining order.\n",
    "mylist=mylist=[1,2,3,3,2,4,2,4,5,2,5]\n",
    "new_list=[]\n",
    "for i in mylist:\n",
    "    if i not in new_list:\n",
    "        new_list.append(i)\n",
    "print(\"Orignal list: \",mylist)\n",
    "print(\"List without duplicates:\",new_list)"
   ]
  },
  {
   "cell_type": "code",
   "execution_count": 11,
   "id": "84c89659-df54-41e7-a0fb-8ccfb5080617",
   "metadata": {},
   "outputs": [
    {
     "name": "stdout",
     "output_type": "stream",
     "text": [
      "himanshu\n"
     ]
    }
   ],
   "source": [
    "# 17. Given a list of strings, find the longest string.\n",
    "mylist=[\"Hello\",\"my\",\"name\",\"is\", \"himanshu\"]\n",
    "longest=\"\"\n",
    "for i in mylist:\n",
    "    if len(i)>len(longest):\n",
    "        longest=i\n",
    "print(longest)"
   ]
  },
  {
   "cell_type": "code",
   "execution_count": 14,
   "id": "10f36fb3-4c7f-409e-b0f7-bc148ed8ea26",
   "metadata": {},
   "outputs": [
    {
     "name": "stdout",
     "output_type": "stream",
     "text": [
      "[12, 45, 6.3, 'Hello']\n"
     ]
    }
   ],
   "source": [
    "# 18. Write a program to copy a list without using .copy().\n",
    "list1=[12,45,6.3,\"Hello\"]\n",
    "list2=[]\n",
    "for i in list1:\n",
    "    list2.append(i)\n",
    "print(list2)"
   ]
  },
  {
   "cell_type": "code",
   "execution_count": 19,
   "id": "2ec63a9b-8a91-49ff-b792-b4a1d1cd31ba",
   "metadata": {},
   "outputs": [
    {
     "name": "stdout",
     "output_type": "stream",
     "text": [
      "4\n"
     ]
    }
   ],
   "source": [
    "# 19. Find the second largest number in a list.\n",
    "num=[1,2,3,4,5]\n",
    "largest=max(num)\n",
    "num.remove(largest)\n",
    "sec_largest=max(num)\n",
    "print(sec_largest)"
   ]
  },
  {
   "cell_type": "code",
   "execution_count": 22,
   "id": "d3896f36-4998-46f8-967e-e75d11bd30c6",
   "metadata": {},
   "outputs": [
    {
     "name": "stdout",
     "output_type": "stream",
     "text": [
      "[1, 2, 3]\n",
      "[4, 5]\n"
     ]
    }
   ],
   "source": [
    "# 20. Split a list into two halves.\n",
    "mylist=[1,2,3,4,5]\n",
    "mid=(len(mylist)+1)//2\n",
    "first_half=mylist[:mid]\n",
    "second_half=mylist[mid:]\n",
    "print(first_half)\n",
    "print(second_half)"
   ]
  }
 ],
 "metadata": {
  "kernelspec": {
   "display_name": "Python 3 (ipykernel)",
   "language": "python",
   "name": "python3"
  },
  "language_info": {
   "codemirror_mode": {
    "name": "ipython",
    "version": 3
   },
   "file_extension": ".py",
   "mimetype": "text/x-python",
   "name": "python",
   "nbconvert_exporter": "python",
   "pygments_lexer": "ipython3",
   "version": "3.13.7"
  }
 },
 "nbformat": 4,
 "nbformat_minor": 5
}
