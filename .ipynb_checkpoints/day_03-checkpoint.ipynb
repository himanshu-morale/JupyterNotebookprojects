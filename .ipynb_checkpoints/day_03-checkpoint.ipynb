{
 "cells": [
  {
   "cell_type": "code",
   "execution_count": 3,
   "id": "e8f02c40-59d8-412f-bb17-1e665228b0a2",
   "metadata": {},
   "outputs": [
    {
     "name": "stdin",
     "output_type": "stream",
     "text": [
      "Enter your name: himanshu\n",
      "enter a num: 77\n"
     ]
    },
    {
     "name": "stdout",
     "output_type": "stream",
     "text": [
      "himanshu\n",
      "77\n"
     ]
    }
   ],
   "source": [
    "#Taking user input \n",
    "name=input(\"Enter your name:\")\n",
    "num=int(input(\"enter a num:\"))\n",
    "print(name)\n",
    "print(num)"
   ]
  },
  {
   "cell_type": "code",
   "execution_count": 1,
   "id": "f4006ec7-95ff-47bd-bc08-9e02f63bdb15",
   "metadata": {},
   "outputs": [],
   "source": [
    "#String :-collection of characters enclsoed in single quotes('), double quotes(\") or tripple quotes('''/\"\"\")\n",
    "#example:-\n",
    "# s1='Hello'\n",
    "# s2=\"World\"\n",
    "# s3='''This is a\n",
    "# multiline string'''"
   ]
  },
  {
   "cell_type": "code",
   "execution_count": 2,
   "id": "871b7bbf-ada4-442d-ac11-518b0abb187d",
   "metadata": {},
   "outputs": [
    {
     "name": "stdout",
     "output_type": "stream",
     "text": [
      "H\n",
      "i\n",
      "u\n",
      "n\n"
     ]
    }
   ],
   "source": [
    "#indexing :- accesing charaters of a string\n",
    "name=\"Himanshu\"\n",
    "print(name[0])\n",
    "print(name[1])\n",
    "print(name[-1])\n",
    "print(name[-4])"
   ]
  },
  {
   "cell_type": "code",
   "execution_count": null,
   "id": "5a0ad2f5-a3d1-44b4-bbbd-ab5799f8258d",
   "metadata": {},
   "outputs": [],
   "source": [
    "#slicing :- obtaining a substring of a string\n",
    "name=\"himanshu\"\n",
    "print("
   ]
  }
 ],
 "metadata": {
  "kernelspec": {
   "display_name": "Python 3 (ipykernel)",
   "language": "python",
   "name": "python3"
  },
  "language_info": {
   "codemirror_mode": {
    "name": "ipython",
    "version": 3
   },
   "file_extension": ".py",
   "mimetype": "text/x-python",
   "name": "python",
   "nbconvert_exporter": "python",
   "pygments_lexer": "ipython3",
   "version": "3.13.7"
  }
 },
 "nbformat": 4,
 "nbformat_minor": 5
}
