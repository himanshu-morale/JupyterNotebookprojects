{
 "cells": [
  {
   "cell_type": "markdown",
   "id": "60e16f21-e1c3-4cfb-a213-5f43b216d992",
   "metadata": {},
   "source": [
    "**Topics: Loops (for & while)**"
   ]
  },
  {
   "cell_type": "code",
   "execution_count": 1,
   "id": "1e97cc03-0241-4164-871e-bc74da0d7740",
   "metadata": {},
   "outputs": [
    {
     "name": "stdout",
     "output_type": "stream",
     "text": [
      "1\n",
      "2\n",
      "3\n",
      "4\n",
      "5\n",
      "6\n",
      "7\n",
      "8\n",
      "9\n",
      "10\n"
     ]
    }
   ],
   "source": [
    "# Write a program to print numbers from 1 to 10 using a for loop.\n",
    "for i in range(1,11):\n",
    "    print(i)"
   ]
  },
  {
   "cell_type": "code",
   "execution_count": 2,
   "id": "4941a162-d1d9-4db7-a642-c7c660b42575",
   "metadata": {},
   "outputs": [
    {
     "name": "stdout",
     "output_type": "stream",
     "text": [
      "2\n",
      "4\n",
      "6\n",
      "8\n",
      "10\n",
      "12\n",
      "14\n",
      "16\n",
      "18\n",
      "20\n",
      "22\n",
      "24\n",
      "26\n",
      "28\n",
      "30\n",
      "32\n",
      "34\n",
      "36\n",
      "38\n",
      "40\n",
      "42\n",
      "44\n",
      "46\n",
      "48\n"
     ]
    }
   ],
   "source": [
    "# Write a program to print even numbers between 1 and 50.\n",
    "for i in range(1,50):\n",
    "    if i%2==0:\n",
    "        print(i)"
   ]
  },
  {
   "cell_type": "code",
   "execution_count": 5,
   "id": "589d4587-a0d1-4363-a223-bfd5a08da0e7",
   "metadata": {},
   "outputs": [
    {
     "name": "stdout",
     "output_type": "stream",
     "text": [
      "55\n"
     ]
    }
   ],
   "source": [
    "# Write a program to print the sum of first 10 natural numbers.\n",
    "sum=0\n",
    "for i in range(1,11):\n",
    "    sum+=i\n",
    "print(sum)"
   ]
  },
  {
   "cell_type": "code",
   "execution_count": 2,
   "id": "76d27c4b-2ff2-4b00-ae1e-0d4837a9e603",
   "metadata": {},
   "outputs": [
    {
     "name": "stdin",
     "output_type": "stream",
     "text": [
      "Enter a number: 5\n"
     ]
    },
    {
     "name": "stdout",
     "output_type": "stream",
     "text": [
      "5 X 1 = 5\n",
      "5 X 2 = 10\n",
      "5 X 3 = 15\n",
      "5 X 4 = 20\n",
      "5 X 5 = 25\n",
      "5 X 6 = 30\n",
      "5 X 7 = 35\n",
      "5 X 8 = 40\n",
      "5 X 9 = 45\n",
      "5 X 10 = 50\n"
     ]
    }
   ],
   "source": [
    "# Write a program to print the multiplication table of a given number.\n",
    "num=int(input(\"Enter a number:\"))\n",
    "for i in range(1,11):\n",
    "    print(f\"{num} X {i} = {num*i}\")"
   ]
  },
  {
   "cell_type": "code",
   "execution_count": 1,
   "id": "f4bbbc0e-3619-42e9-bfcb-a7af2cd8362a",
   "metadata": {},
   "outputs": [
    {
     "name": "stdin",
     "output_type": "stream",
     "text": [
      "Enter the number you want factorial of: 5\n"
     ]
    },
    {
     "name": "stdout",
     "output_type": "stream",
     "text": [
      "120\n"
     ]
    }
   ],
   "source": [
    "# Write a program to find the factorial of a number.\n",
    "num=int(input(\"Enter the number you want factorial of:\"))\n",
    "i=1\n",
    "fact=1\n",
    "while i<=num:\n",
    "    fact=fact*i\n",
    "    i+=1\n",
    "print(fact)        "
   ]
  },
  {
   "cell_type": "code",
   "execution_count": 3,
   "id": "e0d6fc61-68fc-42b4-98a8-5084ce5cf324",
   "metadata": {},
   "outputs": [
    {
     "name": "stdout",
     "output_type": "stream",
     "text": [
      "15\n",
      "30\n",
      "45\n"
     ]
    }
   ],
   "source": [
    "# Write a program to print all numbers from 1 to n that are divisible by 3 and 5.\n",
    "n=50\n",
    "for i in range(1,n):\n",
    "    if (i%3==0 and i%5==0):\n",
    "        print(i)"
   ]
  },
  {
   "cell_type": "code",
   "execution_count": 7,
   "id": "8d42d257-7a09-41a0-a3b4-5c869ad4a828",
   "metadata": {},
   "outputs": [
    {
     "name": "stdin",
     "output_type": "stream",
     "text": [
      "Enter a number 123\n"
     ]
    },
    {
     "name": "stdout",
     "output_type": "stream",
     "text": [
      "reversed number is: 321\n"
     ]
    }
   ],
   "source": [
    "# Write a program to reverse the digits of a number (e.g., 123 → 321).\n",
    "num=int(input(\"Enter a number\"))\n",
    "rev=0\n",
    "while num>0:\n",
    "    digit=num%10\n",
    "    num=num//10\n",
    "    rev=rev*10+digit\n",
    "print(\"reversed number is:\",rev)"
   ]
  },
  {
   "cell_type": "code",
   "execution_count": 10,
   "id": "1dd58930-e234-4fad-adce-dbdbdb3b01f0",
   "metadata": {},
   "outputs": [
    {
     "name": "stdin",
     "output_type": "stream",
     "text": [
      "Enter a number: 345\n"
     ]
    },
    {
     "name": "stdout",
     "output_type": "stream",
     "text": [
      "3\n"
     ]
    }
   ],
   "source": [
    "# Write a program to count the number of digits in a given number.\n",
    "num=int(input(\"Enter a number:\"))\n",
    "count=0\n",
    "while num>0:\n",
    "    count+=1\n",
    "    num//=10\n",
    "print(count)"
   ]
  },
  {
   "cell_type": "code",
   "execution_count": 12,
   "id": "6975becd-8876-4712-a9de-d6ef3b8fd202",
   "metadata": {},
   "outputs": [
    {
     "name": "stdin",
     "output_type": "stream",
     "text": [
      "Enter a number:  243\n"
     ]
    },
    {
     "name": "stdout",
     "output_type": "stream",
     "text": [
      "Not a palindrome\n"
     ]
    }
   ],
   "source": [
    "num = int(input(\"Enter a number: \"))\n",
    "temp = num\n",
    "rev = 0\n",
    "\n",
    "while num > 0:\n",
    "    digit = num % 10\n",
    "    rev = rev * 10 + digit\n",
    "    num //= 10\n",
    "\n",
    "if temp == rev:\n",
    "    print(\"Palindrome number\")\n",
    "else:\n",
    "    print(\"Not a palindrome\")\n"
   ]
  }
 ],
 "metadata": {
  "kernelspec": {
   "display_name": "Python 3 (ipykernel)",
   "language": "python",
   "name": "python3"
  },
  "language_info": {
   "codemirror_mode": {
    "name": "ipython",
    "version": 3
   },
   "file_extension": ".py",
   "mimetype": "text/x-python",
   "name": "python",
   "nbconvert_exporter": "python",
   "pygments_lexer": "ipython3",
   "version": "3.13.7"
  }
 },
 "nbformat": 4,
 "nbformat_minor": 5
}
