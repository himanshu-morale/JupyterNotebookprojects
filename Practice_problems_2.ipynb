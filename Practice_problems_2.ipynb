{
 "cells": [
  {
   "cell_type": "markdown",
   "id": "dbe2d67d-966c-41fb-86e4-c438bbf0e122",
   "metadata": {},
   "source": [
    "**Topics: Operators and Expressions**"
   ]
  },
  {
   "cell_type": "code",
   "execution_count": 2,
   "id": "cc07d7f3-e4cd-428a-ae86-598c84dba10f",
   "metadata": {},
   "outputs": [
    {
     "name": "stdin",
     "output_type": "stream",
     "text": [
      "Enter a number 3\n"
     ]
    },
    {
     "name": "stdout",
     "output_type": "stream",
     "text": [
      "Number 3 is odd\n"
     ]
    }
   ],
   "source": [
    "# Write a program to check if a number is even or odd\n",
    "num=int(input(\"Enter a number\"))\n",
    "if(num%2==0):\n",
    "    print(f\"Number {num} is even\")\n",
    "else:\n",
    "    print(f\"Number {num} is odd\")"
   ]
  },
  {
   "cell_type": "code",
   "execution_count": 3,
   "id": "ba3edc7f-a647-4bb6-a1a2-060e8436f80a",
   "metadata": {},
   "outputs": [
    {
     "name": "stdin",
     "output_type": "stream",
     "text": [
      "Enter number 1: 4\n",
      "Enter number 2: 7\n"
     ]
    },
    {
     "name": "stdout",
     "output_type": "stream",
     "text": [
      "7 is greater than 4\n"
     ]
    }
   ],
   "source": [
    "# Write a program to find the largest of two numbers.\n",
    "num1= int(input(\"Enter number 1:\"))\n",
    "num2=int(input(\"Enter number 2:\"))\n",
    "if(num1>num2):\n",
    "    print(f\"{num1} is greater than {num2}\")\n",
    "else:\n",
    "    print(f\"{num2} is greater than {num1}\")"
   ]
  },
  {
   "cell_type": "code",
   "execution_count": 6,
   "id": "e980a97a-51eb-4344-ac6f-cc1c459212aa",
   "metadata": {},
   "outputs": [
    {
     "name": "stdin",
     "output_type": "stream",
     "text": [
      "Enter number 1: 3\n",
      "Enter number 2: 6\n",
      "Enter number 3: 17\n"
     ]
    },
    {
     "name": "stdout",
     "output_type": "stream",
     "text": [
      "17 is greater\n"
     ]
    }
   ],
   "source": [
    "# Write a program to find the largest of three numbers using logical operators.\n",
    "num1= int(input(\"Enter number 1:\"))\n",
    "num2=int(input(\"Enter number 2:\"))\n",
    "num3=int(input(\"Enter number 3:\"))\n",
    "if(num1>num2 and num1>num3):\n",
    "    print(f\"{num1} is greater \")\n",
    "elif(num2>num1 and num2>num3):\n",
    "    print(f\"{num2} is greater\")\n",
    "else:\n",
    "    print(f\"{num3} is greater\")"
   ]
  },
  {
   "cell_type": "code",
   "execution_count": 8,
   "id": "77b01957-e1df-41d1-962a-5317031d1d24",
   "metadata": {},
   "outputs": [
    {
     "name": "stdin",
     "output_type": "stream",
     "text": [
      "Enter your marks: 3\n"
     ]
    },
    {
     "name": "stdout",
     "output_type": "stream",
     "text": [
      "Fail\n"
     ]
    }
   ],
   "source": [
    "# Take marks as input and print “Pass” if marks ≥ 40, else “Fail”.\n",
    "marks=int(input(\"Enter your marks:\"))\n",
    "if marks>=40:\n",
    "    print(\"Pass\")\n",
    "else:\n",
    "    print(\"Fail\")"
   ]
  },
  {
   "cell_type": "code",
   "execution_count": 10,
   "id": "b9a5baf2-f74f-476b-a98b-ff54ab316d54",
   "metadata": {},
   "outputs": [
    {
     "name": "stdin",
     "output_type": "stream",
     "text": [
      "Enter a number: 55\n"
     ]
    },
    {
     "name": "stdout",
     "output_type": "stream",
     "text": [
      "55 is divisible by 5 and 11\n"
     ]
    }
   ],
   "source": [
    "# Write a program to check whether a number is divisible by 5 and 11 or not.\n",
    "num=int(input(\"Enter a number:\"))\n",
    "if (num%5==0 and num%11==0):\n",
    "    print(f\"{num} is divisible by 5 and 11\")\n",
    "else:\n",
    "    print(f\"{num} is not divisible by 5 and 11\")"
   ]
  },
  {
   "cell_type": "code",
   "execution_count": 12,
   "id": "6163c2c5-a9dd-47a0-882f-30116fdaef5e",
   "metadata": {},
   "outputs": [
    {
     "name": "stdin",
     "output_type": "stream",
     "text": [
      "Enter a year 2024\n"
     ]
    },
    {
     "name": "stdout",
     "output_type": "stream",
     "text": [
      "leap year\n"
     ]
    }
   ],
   "source": [
    "# Write a program to check whether a year is a leap year or not.\n",
    "year=int(input(\"Enter a year\"))\n",
    "if (year %4==0 and year %100!=0) or year%400==0:\n",
    "    print(\"leap year\")\n",
    "else:\n",
    "    print(\"not a leap year\")"
   ]
  },
  {
   "cell_type": "code",
   "execution_count": 13,
   "id": "84769ed2-581b-49ef-9f6f-d5fe51feba7c",
   "metadata": {},
   "outputs": [
    {
     "name": "stdin",
     "output_type": "stream",
     "text": [
      "Enter a character a\n"
     ]
    },
    {
     "name": "stdout",
     "output_type": "stream",
     "text": [
      "a is vowel\n"
     ]
    }
   ],
   "source": [
    "# Write a program to check whether a character is a vowel or consonant.\n",
    "char=input(\"Enter a character\")\n",
    "char.lower()\n",
    "if(char==\"a\" or char==\"e\" or char==\"i\" or char==\"o\" or char==\"u\"):\n",
    "    print(f\"{char} is vowel\")\n",
    "else:\n",
    "    print(f\"{char} is consonant\")"
   ]
  },
  {
   "cell_type": "code",
   "execution_count": 15,
   "id": "be5c56ba-94a5-41ce-b412-16abc0e0c75a",
   "metadata": {},
   "outputs": [
    {
     "name": "stdin",
     "output_type": "stream",
     "text": [
      "Enter number -5\n"
     ]
    },
    {
     "name": "stdout",
     "output_type": "stream",
     "text": [
      "5\n"
     ]
    }
   ],
   "source": [
    "# Write a program to print the absolute value of a number (e.g., -5 → 5).\n",
    "num=int(input(\"Enter number\"))\n",
    "if num<0:\n",
    "    print(-num)\n",
    "else:\n",
    "    print(num)"
   ]
  },
  {
   "cell_type": "code",
   "execution_count": 19,
   "id": "988a14bb-3fdc-4165-b73c-4c2b851b1fbb",
   "metadata": {},
   "outputs": [
    {
     "name": "stdin",
     "output_type": "stream",
     "text": [
      "Enter a number: 0\n"
     ]
    },
    {
     "name": "stdout",
     "output_type": "stream",
     "text": [
      "0 is 0\n"
     ]
    }
   ],
   "source": [
    "# Write a program to check whether a given number is positive, negative, or zero.\n",
    "num=int(input(\"Enter a number:\"))\n",
    "if num>0:\n",
    "    print(f\"{num} is greater than 0\")\n",
    "elif num==0:\n",
    "    print(f\"{num} is 0\")\n",
    "else:\n",
    "    print(f\"{num} is less than 0\")"
   ]
  },
  {
   "cell_type": "code",
   "execution_count": 21,
   "id": "6b99b7a4-e034-48f4-8506-7f459e8cfbde",
   "metadata": {},
   "outputs": [
    {
     "name": "stdin",
     "output_type": "stream",
     "text": [
      "Enter marks: 90\n"
     ]
    },
    {
     "name": "stdout",
     "output_type": "stream",
     "text": [
      "A\n"
     ]
    }
   ],
   "source": [
    "# Write a program to print the grade of a student based on marks:\n",
    "# Marks >= 90: A\n",
    "# Marks >= 80: B\n",
    "# Marks >= 70: C\n",
    "# Marks >= 60: D\n",
    "# Else: Fail\n",
    "marks=int(input(\"Enter marks:\"))\n",
    "if (marks>=90):\n",
    "    print(\"A\")\n",
    "elif(marks>=80):\n",
    "    print(\"B\")\n",
    "elif(marks>=70):\n",
    "    print(\"C\")\n",
    "elif(marks>=60):\n",
    "    print(\"D\")\n",
    "else:\n",
    "    print(\"Fail\")"
   ]
  }
 ],
 "metadata": {
  "kernelspec": {
   "display_name": "Python 3 (ipykernel)",
   "language": "python",
   "name": "python3"
  },
  "language_info": {
   "codemirror_mode": {
    "name": "ipython",
    "version": 3
   },
   "file_extension": ".py",
   "mimetype": "text/x-python",
   "name": "python",
   "nbconvert_exporter": "python",
   "pygments_lexer": "ipython3",
   "version": "3.13.7"
  }
 },
 "nbformat": 4,
 "nbformat_minor": 5
}
